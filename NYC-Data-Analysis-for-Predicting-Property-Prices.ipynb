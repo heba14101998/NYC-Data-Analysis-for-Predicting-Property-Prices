{
 "cells": [
  {
   "cell_type": "markdown",
   "metadata": {
    "id": "booH-5V1jHvm"
   },
   "source": [
    "---\n",
    "<h3 align = 'center'><font color = '#186A3B'>NYC Data Analysis for Predicting Property Prices</font></h3>\n",
    "\n",
    "---\n",
    "\n",
    "\n",
    "# Problem Statement:\n",
    "The dataset contains property sales data for New York City from 2003 to present. The goal is to analyze and prepare the data for machine learning tasks such as predicting property prices.\n",
    "\n",
    "## Dataset Description:\n",
    "The dataset contains the following information for each property sale:\n",
    "\n",
    "- Borough - Code for the borough (Manhattan, Bronx, etc.)\n",
    "- Neighborhood - Name of the neighborhood\n",
    "- Building class category - Type of building\n",
    "- Tax class - Property tax class (1 to 4)\n",
    "- Block and lot - Unique ID for the property\n",
    "- Building class - Building class code (A for single family home, etc.)\n",
    "- Address\n",
    "- Zip code\n",
    "- Residential units - Number of residential units\n",
    "- Commercial units - Number of commercial units\n",
    "- Total units - Total number of units\n",
    "- Land square feet - Land area\n",
    "- Gross square feet - Total building area\n",
    "- Year built - Year the building was constructed\n",
    "- Tax class at time of sale - Tax class when sold\n",
    "- Building class at time of sale\n",
    "- Sale price - Sale price of the property\n",
    "- Sale date - Date of the sale\n",
    "\n",
    "\n",
    "## Tasks:\n",
    "\n",
    "- Data summary and missing value analysis\n",
    "- Checking the target variable normality\n",
    "- Designing hypothesis tests to gain insights\n",
    "- Performing regression to determine relevant features to sale price\n",
    "- Encoding categorical features for regression\n",
    "- Considering missing values at each step"
   ]
  },
  {
   "cell_type": "markdown",
   "metadata": {
    "id": "H0LKKe6rjCJQ"
   },
   "source": [
    "# Import Libraries"
   ]
  },
  {
   "cell_type": "code",
   "execution_count": 2,
   "metadata": {
    "id": "MmnapmKe_nm3"
   },
   "outputs": [],
   "source": [
    "# Import libraries\n",
    "import os\n",
    "import pandas as pd\n",
    "import numpy as np\n",
    "\n",
    "from scipy.stats import skew, norm, kurtosis\n",
    "from scipy import stats \n",
    "import statsmodels.api as sm\n",
    "\n",
    "import matplotlib.pyplot as plt\n",
    "import seaborn as sns\n",
    "import missingno as msno\n"
   ]
  },
  {
   "cell_type": "code",
   "execution_count": 3,
   "metadata": {
    "id": "ebkEX1ruj6ic"
   },
   "outputs": [],
   "source": [
    "# Set the maximum number of rows and columns to display\n",
    "pd.set_option('display.max_rows', 100)\n",
    "pd.set_option('display.max_columns', 100)\n",
    "\n",
    "%matplotlib inline\n",
    "plt.style.use('ggplot')"
   ]
  },
  {
   "attachments": {},
   "cell_type": "markdown",
   "metadata": {
    "id": "3ty_epfv_nm8",
    "tags": []
   },
   "source": [
    "---\n",
    "<h1><font color = green>Datset Overview</font></h1>\n",
    "\n",
    "---\n",
    "Load in the provided dataset `20to22NYC.csv` and summarize the basic statistics. Specifically your code should answer:\n",
    "\n",
    "1. What are the feature types and their basic statistics (using `describe(include='all')`)\n",
    "\n",
    "2. How many features have missing values? \n",
    "\n",
    "3. What are the patterns of missing values and potential missing data reason for the top-3 most missed features."
   ]
  },
  {
   "cell_type": "markdown",
   "metadata": {
    "id": "e959AzxKjs3z"
   },
   "source": [
    "**Load and Preliminary Explore the Dataset**\n",
    "\n"
   ]
  },
  {
   "cell_type": "code",
   "execution_count": 4,
   "metadata": {
    "colab": {
     "base_uri": "https://localhost:8080/",
     "height": 545
    },
    "id": "ZayU686I_nm8",
    "outputId": "0f54ae8b-bbd5-4dc1-84eb-d6c2e3cead8d"
   },
   "outputs": [
    {
     "name": "stderr",
     "output_type": "stream",
     "text": [
      "C:\\Users\\Lap-5\\AppData\\Local\\Temp\\ipykernel_3240\\706680739.py:2: DtypeWarning: Columns (10,11,12) have mixed types. Specify dtype option on import or set low_memory=False.\n",
      "  df = pd.read_csv(data_path)\n"
     ]
    },
    {
     "data": {
      "text/html": [
       "<div>\n",
       "<style scoped>\n",
       "    .dataframe tbody tr th:only-of-type {\n",
       "        vertical-align: middle;\n",
       "    }\n",
       "\n",
       "    .dataframe tbody tr th {\n",
       "        vertical-align: top;\n",
       "    }\n",
       "\n",
       "    .dataframe thead th {\n",
       "        text-align: right;\n",
       "    }\n",
       "</style>\n",
       "<table border=\"1\" class=\"dataframe\">\n",
       "  <thead>\n",
       "    <tr style=\"text-align: right;\">\n",
       "      <th></th>\n",
       "      <th>BOROUGH</th>\n",
       "      <th>NEIGHBORHOOD</th>\n",
       "      <th>BUILDING CLASS CATEGORY</th>\n",
       "      <th>TAX CLASS AT PRESENT</th>\n",
       "      <th>BLOCK</th>\n",
       "      <th>LOT</th>\n",
       "      <th>BUILDING CLASS AT PRESENT</th>\n",
       "      <th>ADDRESS</th>\n",
       "      <th>APARTMENT NUMBER</th>\n",
       "      <th>ZIP CODE</th>\n",
       "      <th>RESIDENTIAL UNITS</th>\n",
       "      <th>COMMERCIAL UNITS</th>\n",
       "      <th>TOTAL UNITS</th>\n",
       "      <th>LAND SQUARE FEET</th>\n",
       "      <th>GROSS SQUARE FEET</th>\n",
       "      <th>YEAR BUILT</th>\n",
       "      <th>TAX CLASS AT TIME OF SALE</th>\n",
       "      <th>BUILDING CLASS AT TIME OF SALE</th>\n",
       "      <th>SALE PRICE</th>\n",
       "      <th>SALE DATE</th>\n",
       "    </tr>\n",
       "  </thead>\n",
       "  <tbody>\n",
       "    <tr>\n",
       "      <th>0</th>\n",
       "      <td>5</td>\n",
       "      <td>ANNADALE</td>\n",
       "      <td>01 ONE FAMILY DWELLINGS</td>\n",
       "      <td>1</td>\n",
       "      <td>5391</td>\n",
       "      <td>9</td>\n",
       "      <td>A5</td>\n",
       "      <td>4726 AMBOY ROAD</td>\n",
       "      <td>NaN</td>\n",
       "      <td>10312.0</td>\n",
       "      <td>1.0</td>\n",
       "      <td>0.0</td>\n",
       "      <td>1.0</td>\n",
       "      <td>3067.0</td>\n",
       "      <td>910.0</td>\n",
       "      <td>2002.0</td>\n",
       "      <td>1</td>\n",
       "      <td>A5</td>\n",
       "      <td>0.0</td>\n",
       "      <td>2020-07-02</td>\n",
       "    </tr>\n",
       "    <tr>\n",
       "      <th>1</th>\n",
       "      <td>5</td>\n",
       "      <td>ANNADALE</td>\n",
       "      <td>01 ONE FAMILY DWELLINGS</td>\n",
       "      <td>1</td>\n",
       "      <td>5404</td>\n",
       "      <td>46</td>\n",
       "      <td>A1</td>\n",
       "      <td>119 LENZIE STREET</td>\n",
       "      <td>NaN</td>\n",
       "      <td>10312.0</td>\n",
       "      <td>1.0</td>\n",
       "      <td>0.0</td>\n",
       "      <td>1.0</td>\n",
       "      <td>8000.0</td>\n",
       "      <td>3660.0</td>\n",
       "      <td>1998.0</td>\n",
       "      <td>1</td>\n",
       "      <td>A1</td>\n",
       "      <td>315000.0</td>\n",
       "      <td>2020-10-02</td>\n",
       "    </tr>\n",
       "    <tr>\n",
       "      <th>2</th>\n",
       "      <td>5</td>\n",
       "      <td>ANNADALE</td>\n",
       "      <td>01 ONE FAMILY DWELLINGS</td>\n",
       "      <td>1</td>\n",
       "      <td>5407</td>\n",
       "      <td>6</td>\n",
       "      <td>A1</td>\n",
       "      <td>118 ELMBANK STREET</td>\n",
       "      <td>NaN</td>\n",
       "      <td>10312.0</td>\n",
       "      <td>1.0</td>\n",
       "      <td>0.0</td>\n",
       "      <td>1.0</td>\n",
       "      <td>6200.0</td>\n",
       "      <td>2580.0</td>\n",
       "      <td>1975.0</td>\n",
       "      <td>1</td>\n",
       "      <td>A1</td>\n",
       "      <td>450000.0</td>\n",
       "      <td>2020-06-24</td>\n",
       "    </tr>\n",
       "    <tr>\n",
       "      <th>3</th>\n",
       "      <td>5</td>\n",
       "      <td>ANNADALE</td>\n",
       "      <td>01 ONE FAMILY DWELLINGS</td>\n",
       "      <td>1</td>\n",
       "      <td>5425</td>\n",
       "      <td>31</td>\n",
       "      <td>A1</td>\n",
       "      <td>7 SANDGAP STREET</td>\n",
       "      <td>NaN</td>\n",
       "      <td>10312.0</td>\n",
       "      <td>1.0</td>\n",
       "      <td>0.0</td>\n",
       "      <td>1.0</td>\n",
       "      <td>2500.0</td>\n",
       "      <td>1222.0</td>\n",
       "      <td>1925.0</td>\n",
       "      <td>1</td>\n",
       "      <td>A2</td>\n",
       "      <td>525000.0</td>\n",
       "      <td>2020-07-02</td>\n",
       "    </tr>\n",
       "    <tr>\n",
       "      <th>4</th>\n",
       "      <td>5</td>\n",
       "      <td>ANNADALE</td>\n",
       "      <td>01 ONE FAMILY DWELLINGS</td>\n",
       "      <td>1</td>\n",
       "      <td>6205</td>\n",
       "      <td>17</td>\n",
       "      <td>A5</td>\n",
       "      <td>91 EAGAN AVENUE</td>\n",
       "      <td>NaN</td>\n",
       "      <td>10312.0</td>\n",
       "      <td>1.0</td>\n",
       "      <td>0.0</td>\n",
       "      <td>1.0</td>\n",
       "      <td>1845.0</td>\n",
       "      <td>1854.0</td>\n",
       "      <td>1986.0</td>\n",
       "      <td>1</td>\n",
       "      <td>A5</td>\n",
       "      <td>480000.0</td>\n",
       "      <td>2020-01-14</td>\n",
       "    </tr>\n",
       "  </tbody>\n",
       "</table>\n",
       "</div>"
      ],
      "text/plain": [
       "   BOROUGH NEIGHBORHOOD  BUILDING CLASS CATEGORY TAX CLASS AT PRESENT  BLOCK  \\\n",
       "0        5     ANNADALE  01 ONE FAMILY DWELLINGS                    1   5391   \n",
       "1        5     ANNADALE  01 ONE FAMILY DWELLINGS                    1   5404   \n",
       "2        5     ANNADALE  01 ONE FAMILY DWELLINGS                    1   5407   \n",
       "3        5     ANNADALE  01 ONE FAMILY DWELLINGS                    1   5425   \n",
       "4        5     ANNADALE  01 ONE FAMILY DWELLINGS                    1   6205   \n",
       "\n",
       "   LOT BUILDING CLASS AT PRESENT             ADDRESS APARTMENT NUMBER  \\\n",
       "0    9                        A5     4726 AMBOY ROAD              NaN   \n",
       "1   46                        A1   119 LENZIE STREET              NaN   \n",
       "2    6                        A1  118 ELMBANK STREET              NaN   \n",
       "3   31                        A1    7 SANDGAP STREET              NaN   \n",
       "4   17                        A5     91 EAGAN AVENUE              NaN   \n",
       "\n",
       "   ZIP CODE RESIDENTIAL UNITS COMMERCIAL UNITS TOTAL UNITS  LAND SQUARE FEET  \\\n",
       "0   10312.0               1.0              0.0         1.0            3067.0   \n",
       "1   10312.0               1.0              0.0         1.0            8000.0   \n",
       "2   10312.0               1.0              0.0         1.0            6200.0   \n",
       "3   10312.0               1.0              0.0         1.0            2500.0   \n",
       "4   10312.0               1.0              0.0         1.0            1845.0   \n",
       "\n",
       "   GROSS SQUARE FEET  YEAR BUILT  TAX CLASS AT TIME OF SALE  \\\n",
       "0              910.0      2002.0                          1   \n",
       "1             3660.0      1998.0                          1   \n",
       "2             2580.0      1975.0                          1   \n",
       "3             1222.0      1925.0                          1   \n",
       "4             1854.0      1986.0                          1   \n",
       "\n",
       "  BUILDING CLASS AT TIME OF SALE  SALE PRICE   SALE DATE  \n",
       "0                             A5         0.0  2020-07-02  \n",
       "1                             A1    315000.0  2020-10-02  \n",
       "2                             A1    450000.0  2020-06-24  \n",
       "3                             A2    525000.0  2020-07-02  \n",
       "4                             A5    480000.0  2020-01-14  "
      ]
     },
     "execution_count": 4,
     "metadata": {},
     "output_type": "execute_result"
    }
   ],
   "source": [
    "data_path = os.path.join(os.getcwd(), \"20to22NYC.csv\")\n",
    "df = pd.read_csv(data_path)\n",
    "df.head(5)"
   ]
  },
  {
   "cell_type": "code",
   "execution_count": 5,
   "metadata": {
    "colab": {
     "base_uri": "https://localhost:8080/",
     "height": 563
    },
    "id": "g94h3nj1uVvV",
    "outputId": "a1da774d-5a83-4806-f1e0-8c941d857c5e"
   },
   "outputs": [
    {
     "data": {
      "text/html": [
       "<div>\n",
       "<style scoped>\n",
       "    .dataframe tbody tr th:only-of-type {\n",
       "        vertical-align: middle;\n",
       "    }\n",
       "\n",
       "    .dataframe tbody tr th {\n",
       "        vertical-align: top;\n",
       "    }\n",
       "\n",
       "    .dataframe thead th {\n",
       "        text-align: right;\n",
       "    }\n",
       "</style>\n",
       "<table border=\"1\" class=\"dataframe\">\n",
       "  <thead>\n",
       "    <tr style=\"text-align: right;\">\n",
       "      <th></th>\n",
       "      <th>BOROUGH</th>\n",
       "      <th>NEIGHBORHOOD</th>\n",
       "      <th>BUILDING CLASS CATEGORY</th>\n",
       "      <th>TAX CLASS AT PRESENT</th>\n",
       "      <th>BLOCK</th>\n",
       "      <th>LOT</th>\n",
       "      <th>BUILDING CLASS AT PRESENT</th>\n",
       "      <th>ADDRESS</th>\n",
       "      <th>APARTMENT NUMBER</th>\n",
       "      <th>ZIP CODE</th>\n",
       "      <th>RESIDENTIAL UNITS</th>\n",
       "      <th>COMMERCIAL UNITS</th>\n",
       "      <th>TOTAL UNITS</th>\n",
       "      <th>LAND SQUARE FEET</th>\n",
       "      <th>GROSS SQUARE FEET</th>\n",
       "      <th>YEAR BUILT</th>\n",
       "      <th>TAX CLASS AT TIME OF SALE</th>\n",
       "      <th>BUILDING CLASS AT TIME OF SALE</th>\n",
       "      <th>SALE PRICE</th>\n",
       "      <th>SALE DATE</th>\n",
       "    </tr>\n",
       "  </thead>\n",
       "  <tbody>\n",
       "    <tr>\n",
       "      <th>181883</th>\n",
       "      <td>1</td>\n",
       "      <td>GREENWICH VILLAGE-CENTRAL</td>\n",
       "      <td>10 COOPS - ELEVATOR APARTMENTS</td>\n",
       "      <td>2</td>\n",
       "      <td>566</td>\n",
       "      <td>18</td>\n",
       "      <td>D4</td>\n",
       "      <td>20 EAST 9TH STREET, 5C</td>\n",
       "      <td>NaN</td>\n",
       "      <td>10003.0</td>\n",
       "      <td>NaN</td>\n",
       "      <td>NaN</td>\n",
       "      <td>NaN</td>\n",
       "      <td>NaN</td>\n",
       "      <td>NaN</td>\n",
       "      <td>1964.0</td>\n",
       "      <td>2</td>\n",
       "      <td>D4</td>\n",
       "      <td>2564300.0</td>\n",
       "      <td>2022-01-19</td>\n",
       "    </tr>\n",
       "    <tr>\n",
       "      <th>55618</th>\n",
       "      <td>5</td>\n",
       "      <td>ROSEBANK</td>\n",
       "      <td>01 ONE FAMILY DWELLINGS</td>\n",
       "      <td>1</td>\n",
       "      <td>2982</td>\n",
       "      <td>1</td>\n",
       "      <td>A5</td>\n",
       "      <td>378 HYLAN BOULEVARD</td>\n",
       "      <td>NaN</td>\n",
       "      <td>10305.0</td>\n",
       "      <td>1.0</td>\n",
       "      <td>0.0</td>\n",
       "      <td>1.0</td>\n",
       "      <td>2475.0</td>\n",
       "      <td>1688.0</td>\n",
       "      <td>1995.0</td>\n",
       "      <td>1</td>\n",
       "      <td>A5</td>\n",
       "      <td>570000.0</td>\n",
       "      <td>2021-10-07</td>\n",
       "    </tr>\n",
       "    <tr>\n",
       "      <th>216282</th>\n",
       "      <td>1</td>\n",
       "      <td>MIDTOWN WEST</td>\n",
       "      <td>10 COOPS - ELEVATOR APARTMENTS</td>\n",
       "      <td>2</td>\n",
       "      <td>1030</td>\n",
       "      <td>29</td>\n",
       "      <td>D4</td>\n",
       "      <td>200 CENTRAL PARK SOUTH, 21L</td>\n",
       "      <td>NaN</td>\n",
       "      <td>10019.0</td>\n",
       "      <td>NaN</td>\n",
       "      <td>NaN</td>\n",
       "      <td>NaN</td>\n",
       "      <td>NaN</td>\n",
       "      <td>NaN</td>\n",
       "      <td>1963.0</td>\n",
       "      <td>2</td>\n",
       "      <td>D4</td>\n",
       "      <td>660000.0</td>\n",
       "      <td>2021-07-08</td>\n",
       "    </tr>\n",
       "    <tr>\n",
       "      <th>26608</th>\n",
       "      <td>4</td>\n",
       "      <td>MASPETH</td>\n",
       "      <td>22 STORE BUILDINGS</td>\n",
       "      <td>4</td>\n",
       "      <td>2774</td>\n",
       "      <td>33</td>\n",
       "      <td>K4</td>\n",
       "      <td>66-42 GRAND AVENUE</td>\n",
       "      <td>NaN</td>\n",
       "      <td>11378.0</td>\n",
       "      <td>2.0</td>\n",
       "      <td>3</td>\n",
       "      <td>5</td>\n",
       "      <td>3400.0</td>\n",
       "      <td>3570.0</td>\n",
       "      <td>1925.0</td>\n",
       "      <td>4</td>\n",
       "      <td>K4</td>\n",
       "      <td>1650000.0</td>\n",
       "      <td>2022-03-14</td>\n",
       "    </tr>\n",
       "    <tr>\n",
       "      <th>144108</th>\n",
       "      <td>3</td>\n",
       "      <td>OCEAN PARKWAY-NORTH</td>\n",
       "      <td>01 ONE FAMILY DWELLINGS</td>\n",
       "      <td>1</td>\n",
       "      <td>6617</td>\n",
       "      <td>69</td>\n",
       "      <td>A1</td>\n",
       "      <td>1555 EAST 10TH STREET</td>\n",
       "      <td>NaN</td>\n",
       "      <td>11230.0</td>\n",
       "      <td>1.0</td>\n",
       "      <td>0.0</td>\n",
       "      <td>1.0</td>\n",
       "      <td>3000.0</td>\n",
       "      <td>1828.0</td>\n",
       "      <td>1925.0</td>\n",
       "      <td>1</td>\n",
       "      <td>A1</td>\n",
       "      <td>1650000.0</td>\n",
       "      <td>2021-03-02</td>\n",
       "    </tr>\n",
       "  </tbody>\n",
       "</table>\n",
       "</div>"
      ],
      "text/plain": [
       "        BOROUGH               NEIGHBORHOOD         BUILDING CLASS CATEGORY  \\\n",
       "181883        1  GREENWICH VILLAGE-CENTRAL  10 COOPS - ELEVATOR APARTMENTS   \n",
       "55618         5                   ROSEBANK         01 ONE FAMILY DWELLINGS   \n",
       "216282        1               MIDTOWN WEST  10 COOPS - ELEVATOR APARTMENTS   \n",
       "26608         4                    MASPETH              22 STORE BUILDINGS   \n",
       "144108        3        OCEAN PARKWAY-NORTH         01 ONE FAMILY DWELLINGS   \n",
       "\n",
       "       TAX CLASS AT PRESENT  BLOCK  LOT BUILDING CLASS AT PRESENT  \\\n",
       "181883                    2    566   18                        D4   \n",
       "55618                     1   2982    1                        A5   \n",
       "216282                    2   1030   29                        D4   \n",
       "26608                     4   2774   33                        K4   \n",
       "144108                    1   6617   69                        A1   \n",
       "\n",
       "                            ADDRESS APARTMENT NUMBER  ZIP CODE  \\\n",
       "181883       20 EAST 9TH STREET, 5C              NaN   10003.0   \n",
       "55618           378 HYLAN BOULEVARD              NaN   10305.0   \n",
       "216282  200 CENTRAL PARK SOUTH, 21L              NaN   10019.0   \n",
       "26608            66-42 GRAND AVENUE              NaN   11378.0   \n",
       "144108        1555 EAST 10TH STREET              NaN   11230.0   \n",
       "\n",
       "       RESIDENTIAL UNITS COMMERCIAL UNITS TOTAL UNITS  LAND SQUARE FEET  \\\n",
       "181883               NaN              NaN         NaN               NaN   \n",
       "55618                1.0              0.0         1.0            2475.0   \n",
       "216282               NaN              NaN         NaN               NaN   \n",
       "26608                2.0                3           5            3400.0   \n",
       "144108               1.0              0.0         1.0            3000.0   \n",
       "\n",
       "        GROSS SQUARE FEET  YEAR BUILT  TAX CLASS AT TIME OF SALE  \\\n",
       "181883                NaN      1964.0                          2   \n",
       "55618              1688.0      1995.0                          1   \n",
       "216282                NaN      1963.0                          2   \n",
       "26608              3570.0      1925.0                          4   \n",
       "144108             1828.0      1925.0                          1   \n",
       "\n",
       "       BUILDING CLASS AT TIME OF SALE  SALE PRICE   SALE DATE  \n",
       "181883                             D4   2564300.0  2022-01-19  \n",
       "55618                              A5    570000.0  2021-10-07  \n",
       "216282                             D4    660000.0  2021-07-08  \n",
       "26608                              K4   1650000.0  2022-03-14  \n",
       "144108                             A1   1650000.0  2021-03-02  "
      ]
     },
     "execution_count": 5,
     "metadata": {},
     "output_type": "execute_result"
    }
   ],
   "source": [
    "df.sample(5)"
   ]
  },
  {
   "cell_type": "code",
   "execution_count": 6,
   "metadata": {
    "colab": {
     "base_uri": "https://localhost:8080/"
    },
    "id": "IeW7r1xPu9Q8",
    "outputId": "67c9bfcd-0e8a-45d1-aa38-8ccf724eeb20"
   },
   "outputs": [
    {
     "data": {
      "text/plain": [
       "Index(['BOROUGH', 'NEIGHBORHOOD', 'BUILDING CLASS CATEGORY',\n",
       "       'TAX CLASS AT PRESENT', 'BLOCK', 'LOT', 'BUILDING CLASS AT PRESENT',\n",
       "       'ADDRESS', 'APARTMENT NUMBER', 'ZIP CODE', 'RESIDENTIAL UNITS',\n",
       "       'COMMERCIAL UNITS', 'TOTAL UNITS', 'LAND SQUARE FEET',\n",
       "       'GROSS SQUARE FEET', 'YEAR BUILT', 'TAX CLASS AT TIME OF SALE',\n",
       "       'BUILDING CLASS AT TIME OF SALE', 'SALE PRICE', 'SALE DATE'],\n",
       "      dtype='object')"
      ]
     },
     "execution_count": 6,
     "metadata": {},
     "output_type": "execute_result"
    }
   ],
   "source": [
    "df.columns"
   ]
  },
  {
   "cell_type": "code",
   "execution_count": 7,
   "metadata": {
    "colab": {
     "base_uri": "https://localhost:8080/"
    },
    "id": "EVhS9hIYvjkf",
    "outputId": "d2038e68-482d-4fd5-d8e9-fa45f76a04e4"
   },
   "outputs": [
    {
     "name": "stdout",
     "output_type": "stream",
     "text": [
      "Index(['borough', 'neighborhood', 'building_class_category',\n",
      "       'tax_class_at_present', 'block', 'lot', 'building_class_at_present',\n",
      "       'address', 'apartment_number', 'zip_code', 'residential_units',\n",
      "       'commercial_units', 'total_units', 'land_square_feet',\n",
      "       'gross_square_feet', 'year_built', 'tax_class_at_time_of_sale',\n",
      "       'building_class_at_time_of_sale', 'sale_price', 'sale_date'],\n",
      "      dtype='object')\n"
     ]
    }
   ],
   "source": [
    "\"\"\"\n",
    "Convert the column names in a pandas DataFrame for easy loading\n",
    "\"\"\"\n",
    "# Rename the columns in snake case style\n",
    "df.columns = df.columns.str.lower().str.replace(' ', '_')\n",
    "\n",
    "# Print the new column names\n",
    "print(df.columns)"
   ]
  },
  {
   "cell_type": "code",
   "execution_count": 8,
   "metadata": {},
   "outputs": [
    {
     "data": {
      "text/plain": [
       "(74899, 20)"
      ]
     },
     "execution_count": 8,
     "metadata": {},
     "output_type": "execute_result"
    }
   ],
   "source": [
    "df[df.sale_price == 0].shape"
   ]
  },
  {
   "cell_type": "markdown",
   "metadata": {},
   "source": [
    "> **OBSERVATION:** A 0 dollar sale indicates that there was a transfer of ownership without a cash consideration. There can be a number of reasons for a 0 dollar sale including transfers of ownership from parents to children. "
   ]
  },
  {
   "cell_type": "code",
   "execution_count": 9,
   "metadata": {},
   "outputs": [
    {
     "data": {
      "text/plain": [
       "address                           241541\n",
       "sale_price                         18809\n",
       "block                              13104\n",
       "land_square_feet                    9878\n",
       "gross_square_feet                   9114\n",
       "apartment_number                    9040\n",
       "lot                                 4049\n",
       "sale_date                           1096\n",
       "total_units                          475\n",
       "residential_units                    446\n",
       "neighborhood                         255\n",
       "zip_code                             196\n",
       "year_built                           192\n",
       "building_class_at_present            174\n",
       "building_class_at_time_of_sale       173\n",
       "commercial_units                     116\n",
       "building_class_category               44\n",
       "tax_class_at_present                  10\n",
       "borough                                5\n",
       "tax_class_at_time_of_sale              3\n",
       "dtype: int64"
      ]
     },
     "execution_count": 9,
     "metadata": {},
     "output_type": "execute_result"
    }
   ],
   "source": [
    "df.nunique().sort_values(ascending = False)"
   ]
  },
  {
   "cell_type": "code",
   "execution_count": 10,
   "metadata": {},
   "outputs": [
    {
     "name": "stdout",
     "output_type": "stream",
     "text": [
      "Number of unique values in Block: 13104\n",
      "Number of unique values in LOT: 4049\n"
     ]
    }
   ],
   "source": [
    "print('Number of unique values in Block:', df.block.nunique())\n",
    "print('Number of unique values in LOT:',df.lot.nunique())"
   ]
  },
  {
   "attachments": {},
   "cell_type": "markdown",
   "metadata": {
    "id": "qEtEAlOYtlDd"
   },
   "source": [
    "### (1) What are the feature types and their basic statistic?\n",
    "> **Answer of feature types:** \n",
    "\n",
    "- **Categorical features:**\n",
    "`borough`, `neighborhood`, `building_class_category`, `tax_class_at_present`, `building_class_at_present`, `address`, `apartment_number`, `zip_code`, `year_built`, `tax_class_at_time_of_sale`, `building_class_at_time_of_sale`\n",
    "\n",
    "- `block` and `lot`: there are more than 11k unique blocks in the dataset, it doesn't make sense to define it as a categorical variable. **I will leave it as numerical**.\n",
    "\n",
    "- **Numeric features:**\n",
    "`block`,`lot`,`residential_units`,\n",
    "`commercial_units`,`total_units`,`land_square_feet`,\n",
    "`gross_square_feet`,`sale_price`\n",
    "\n",
    "> **Answer of basic statistic:** shown in the code reults below.\n"
   ]
  },
  {
   "cell_type": "markdown",
   "metadata": {
    "id": "HseJP64g3XAe"
   },
   "source": [
    "#### **Features Types**"
   ]
  },
  {
   "cell_type": "code",
   "execution_count": 11,
   "metadata": {
    "colab": {
     "base_uri": "https://localhost:8080/"
    },
    "id": "m9R6jUyEC7v6",
    "outputId": "0a72f39b-f8b5-4915-ceaa-c57f6a832e68"
   },
   "outputs": [
    {
     "name": "stdout",
     "output_type": "stream",
     "text": [
      "<class 'pandas.core.frame.DataFrame'>\n",
      "RangeIndex: 258464 entries, 0 to 258463\n",
      "Data columns (total 20 columns):\n",
      " #   Column                          Non-Null Count   Dtype  \n",
      "---  ------                          --------------   -----  \n",
      " 0   borough                         258464 non-null  int64  \n",
      " 1   neighborhood                    258464 non-null  object \n",
      " 2   building_class_category         258464 non-null  object \n",
      " 3   tax_class_at_present            258143 non-null  object \n",
      " 4   block                           258464 non-null  int64  \n",
      " 5   lot                             258464 non-null  int64  \n",
      " 6   building_class_at_present       258143 non-null  object \n",
      " 7   address                         258464 non-null  object \n",
      " 8   apartment_number                62945 non-null   object \n",
      " 9   zip_code                        258445 non-null  float64\n",
      " 10  residential_units               199349 non-null  object \n",
      " 11  commercial_units                162951 non-null  object \n",
      " 12  total_units                     205304 non-null  object \n",
      " 13  land_square_feet                156996 non-null  float64\n",
      " 14  gross_square_feet               156996 non-null  float64\n",
      " 15  year_built                      240618 non-null  float64\n",
      " 16  tax_class_at_time_of_sale       258464 non-null  int64  \n",
      " 17  building_class_at_time_of_sale  258464 non-null  object \n",
      " 18  sale_price                      258464 non-null  float64\n",
      " 19  sale_date                       258464 non-null  object \n",
      "dtypes: float64(5), int64(4), object(11)\n",
      "memory usage: 39.4+ MB\n"
     ]
    }
   ],
   "source": [
    "df.info()"
   ]
  },
  {
   "cell_type": "markdown",
   "metadata": {
    "id": "WwGM5N1ey1GQ"
   },
   "source": [
    "> **OBSERVATION**: Data types of some columns need to be casted.\n"
   ]
  },
  {
   "cell_type": "code",
   "execution_count": 12,
   "metadata": {
    "id": "fIn__2mW1WRo"
   },
   "outputs": [],
   "source": [
    "# Convert selected columns to categorical data type\n",
    "# Define columns to be converted to categorical and numeric data types\n",
    "cat_cols = ['borough', 'neighborhood', 'building_class_category', 'tax_class_at_present', \n",
    "            'building_class_at_present', 'address', 'apartment_number', 'zip_code', \n",
    "            'year_built', 'tax_class_at_time_of_sale', 'building_class_at_time_of_sale']\n",
    "\n",
    "num_cols = ['block', 'lot', 'residential_units', 'commercial_units', 'total_units', \n",
    "            'land_square_feet', 'gross_square_feet', 'sale_price']\n",
    "\n",
    "# Convert selected columns to categorical data type\n",
    "df[cat_cols] = df[cat_cols].astype('category')\n",
    "# Convert selected columns to numeric data type\n",
    "df[num_cols] = df[num_cols].replace(',', '', regex=True).apply(pd.to_numeric)\n",
    "# constructing the date time variable\n",
    "df.sale_date= pd.to_datetime(df.sale_date)"
   ]
  },
  {
   "cell_type": "code",
   "execution_count": 13,
   "metadata": {
    "colab": {
     "base_uri": "https://localhost:8080/"
    },
    "id": "_JdEGVsNup8b",
    "outputId": "bd7f8840-373b-4b14-db0c-97cf38c21c7d"
   },
   "outputs": [
    {
     "name": "stdout",
     "output_type": "stream",
     "text": [
      "borough                                 category\n",
      "neighborhood                            category\n",
      "building_class_category                 category\n",
      "tax_class_at_present                    category\n",
      "block                                      int64\n",
      "lot                                        int64\n",
      "building_class_at_present               category\n",
      "address                                 category\n",
      "apartment_number                        category\n",
      "zip_code                                category\n",
      "residential_units                        float64\n",
      "commercial_units                         float64\n",
      "total_units                              float64\n",
      "land_square_feet                         float64\n",
      "gross_square_feet                        float64\n",
      "year_built                              category\n",
      "tax_class_at_time_of_sale               category\n",
      "building_class_at_time_of_sale          category\n",
      "sale_price                               float64\n",
      "sale_date                         datetime64[ns]\n",
      "dtype: object\n"
     ]
    }
   ],
   "source": [
    "# Check data types of columns\n",
    "print(df.dtypes)"
   ]
  },
  {
   "cell_type": "markdown",
   "metadata": {
    "id": "RpG58NeP3Rle"
   },
   "source": [
    "#### **Basic Statistic**"
   ]
  },
  {
   "cell_type": "code",
   "execution_count": 14,
   "metadata": {
    "colab": {
     "base_uri": "https://localhost:8080/",
     "height": 394
    },
    "id": "dnut4zDq7YTM",
    "outputId": "3cc43af0-80a1-4b6d-ee46-15aaa04024e4"
   },
   "outputs": [
    {
     "data": {
      "text/html": [
       "<div>\n",
       "<style scoped>\n",
       "    .dataframe tbody tr th:only-of-type {\n",
       "        vertical-align: middle;\n",
       "    }\n",
       "\n",
       "    .dataframe tbody tr th {\n",
       "        vertical-align: top;\n",
       "    }\n",
       "\n",
       "    .dataframe thead th {\n",
       "        text-align: right;\n",
       "    }\n",
       "</style>\n",
       "<table border=\"1\" class=\"dataframe\">\n",
       "  <thead>\n",
       "    <tr style=\"text-align: right;\">\n",
       "      <th></th>\n",
       "      <th>count</th>\n",
       "      <th>unique</th>\n",
       "      <th>top</th>\n",
       "      <th>freq</th>\n",
       "    </tr>\n",
       "  </thead>\n",
       "  <tbody>\n",
       "    <tr>\n",
       "      <th>borough</th>\n",
       "      <td>258464</td>\n",
       "      <td>5</td>\n",
       "      <td>4</td>\n",
       "      <td>79552</td>\n",
       "    </tr>\n",
       "    <tr>\n",
       "      <th>neighborhood</th>\n",
       "      <td>258464</td>\n",
       "      <td>255</td>\n",
       "      <td>FLUSHING-NORTH</td>\n",
       "      <td>8419</td>\n",
       "    </tr>\n",
       "    <tr>\n",
       "      <th>building_class_category</th>\n",
       "      <td>258464</td>\n",
       "      <td>44</td>\n",
       "      <td>01 ONE FAMILY DWELLINGS</td>\n",
       "      <td>57236</td>\n",
       "    </tr>\n",
       "    <tr>\n",
       "      <th>tax_class_at_present</th>\n",
       "      <td>258143</td>\n",
       "      <td>10</td>\n",
       "      <td>1</td>\n",
       "      <td>118084</td>\n",
       "    </tr>\n",
       "    <tr>\n",
       "      <th>building_class_at_present</th>\n",
       "      <td>258143</td>\n",
       "      <td>174</td>\n",
       "      <td>R4</td>\n",
       "      <td>41698</td>\n",
       "    </tr>\n",
       "    <tr>\n",
       "      <th>address</th>\n",
       "      <td>258464</td>\n",
       "      <td>241541</td>\n",
       "      <td>55 AUSTIN PLACE</td>\n",
       "      <td>24</td>\n",
       "    </tr>\n",
       "    <tr>\n",
       "      <th>apartment_number</th>\n",
       "      <td>62945</td>\n",
       "      <td>9040</td>\n",
       "      <td>3A</td>\n",
       "      <td>975</td>\n",
       "    </tr>\n",
       "    <tr>\n",
       "      <th>zip_code</th>\n",
       "      <td>258445.0</td>\n",
       "      <td>196.0</td>\n",
       "      <td>10314.0</td>\n",
       "      <td>4673.0</td>\n",
       "    </tr>\n",
       "    <tr>\n",
       "      <th>year_built</th>\n",
       "      <td>240618.0</td>\n",
       "      <td>192.0</td>\n",
       "      <td>1920.0</td>\n",
       "      <td>18698.0</td>\n",
       "    </tr>\n",
       "    <tr>\n",
       "      <th>tax_class_at_time_of_sale</th>\n",
       "      <td>258464</td>\n",
       "      <td>3</td>\n",
       "      <td>1</td>\n",
       "      <td>126804</td>\n",
       "    </tr>\n",
       "    <tr>\n",
       "      <th>building_class_at_time_of_sale</th>\n",
       "      <td>258464</td>\n",
       "      <td>173</td>\n",
       "      <td>R4</td>\n",
       "      <td>41602</td>\n",
       "    </tr>\n",
       "  </tbody>\n",
       "</table>\n",
       "</div>"
      ],
      "text/plain": [
       "                                   count  unique                      top  \\\n",
       "borough                           258464       5                        4   \n",
       "neighborhood                      258464     255           FLUSHING-NORTH   \n",
       "building_class_category           258464      44  01 ONE FAMILY DWELLINGS   \n",
       "tax_class_at_present              258143      10                        1   \n",
       "building_class_at_present         258143     174                       R4   \n",
       "address                           258464  241541          55 AUSTIN PLACE   \n",
       "apartment_number                   62945    9040                       3A   \n",
       "zip_code                        258445.0   196.0                  10314.0   \n",
       "year_built                      240618.0   192.0                   1920.0   \n",
       "tax_class_at_time_of_sale         258464       3                        1   \n",
       "building_class_at_time_of_sale    258464     173                       R4   \n",
       "\n",
       "                                   freq  \n",
       "borough                           79552  \n",
       "neighborhood                       8419  \n",
       "building_class_category           57236  \n",
       "tax_class_at_present             118084  \n",
       "building_class_at_present         41698  \n",
       "address                              24  \n",
       "apartment_number                    975  \n",
       "zip_code                         4673.0  \n",
       "year_built                      18698.0  \n",
       "tax_class_at_time_of_sale        126804  \n",
       "building_class_at_time_of_sale    41602  "
      ]
     },
     "execution_count": 14,
     "metadata": {},
     "output_type": "execute_result"
    }
   ],
   "source": [
    "df.describe(include='category').transpose()"
   ]
  },
  {
   "cell_type": "code",
   "execution_count": 15,
   "metadata": {
    "colab": {
     "base_uri": "https://localhost:8080/",
     "height": 300
    },
    "id": "0NXgXPj-C3qA",
    "outputId": "bad2844e-109b-4b44-934a-0490b9699545"
   },
   "outputs": [
    {
     "data": {
      "text/html": [
       "<div>\n",
       "<style scoped>\n",
       "    .dataframe tbody tr th:only-of-type {\n",
       "        vertical-align: middle;\n",
       "    }\n",
       "\n",
       "    .dataframe tbody tr th {\n",
       "        vertical-align: top;\n",
       "    }\n",
       "\n",
       "    .dataframe thead th {\n",
       "        text-align: right;\n",
       "    }\n",
       "</style>\n",
       "<table border=\"1\" class=\"dataframe\">\n",
       "  <thead>\n",
       "    <tr style=\"text-align: right;\">\n",
       "      <th></th>\n",
       "      <th>count</th>\n",
       "      <th>mean</th>\n",
       "      <th>std</th>\n",
       "      <th>min</th>\n",
       "      <th>25%</th>\n",
       "      <th>50%</th>\n",
       "      <th>75%</th>\n",
       "      <th>max</th>\n",
       "    </tr>\n",
       "  </thead>\n",
       "  <tbody>\n",
       "    <tr>\n",
       "      <th>block</th>\n",
       "      <td>258464.0</td>\n",
       "      <td>4.205347e+03</td>\n",
       "      <td>3.583534e+03</td>\n",
       "      <td>1.0</td>\n",
       "      <td>1251.0</td>\n",
       "      <td>3273.5</td>\n",
       "      <td>6251.00</td>\n",
       "      <td>1.635000e+04</td>\n",
       "    </tr>\n",
       "    <tr>\n",
       "      <th>lot</th>\n",
       "      <td>258464.0</td>\n",
       "      <td>3.907985e+02</td>\n",
       "      <td>6.638566e+02</td>\n",
       "      <td>1.0</td>\n",
       "      <td>22.0</td>\n",
       "      <td>52.0</td>\n",
       "      <td>1003.00</td>\n",
       "      <td>9.116000e+03</td>\n",
       "    </tr>\n",
       "    <tr>\n",
       "      <th>residential_units</th>\n",
       "      <td>199349.0</td>\n",
       "      <td>3.110941e+00</td>\n",
       "      <td>2.938664e+01</td>\n",
       "      <td>0.0</td>\n",
       "      <td>1.0</td>\n",
       "      <td>1.0</td>\n",
       "      <td>2.00</td>\n",
       "      <td>8.764000e+03</td>\n",
       "    </tr>\n",
       "    <tr>\n",
       "      <th>commercial_units</th>\n",
       "      <td>162951.0</td>\n",
       "      <td>3.333149e-01</td>\n",
       "      <td>8.103192e+00</td>\n",
       "      <td>0.0</td>\n",
       "      <td>0.0</td>\n",
       "      <td>0.0</td>\n",
       "      <td>0.00</td>\n",
       "      <td>2.261000e+03</td>\n",
       "    </tr>\n",
       "    <tr>\n",
       "      <th>total_units</th>\n",
       "      <td>205304.0</td>\n",
       "      <td>3.285260e+00</td>\n",
       "      <td>2.992773e+01</td>\n",
       "      <td>0.0</td>\n",
       "      <td>1.0</td>\n",
       "      <td>1.0</td>\n",
       "      <td>2.00</td>\n",
       "      <td>8.812000e+03</td>\n",
       "    </tr>\n",
       "    <tr>\n",
       "      <th>land_square_feet</th>\n",
       "      <td>156996.0</td>\n",
       "      <td>6.006378e+03</td>\n",
       "      <td>1.139290e+05</td>\n",
       "      <td>0.0</td>\n",
       "      <td>1900.0</td>\n",
       "      <td>2500.0</td>\n",
       "      <td>3909.25</td>\n",
       "      <td>7.649136e+06</td>\n",
       "    </tr>\n",
       "    <tr>\n",
       "      <th>gross_square_feet</th>\n",
       "      <td>156996.0</td>\n",
       "      <td>5.488587e+03</td>\n",
       "      <td>4.887278e+04</td>\n",
       "      <td>0.0</td>\n",
       "      <td>1224.0</td>\n",
       "      <td>1810.0</td>\n",
       "      <td>2670.00</td>\n",
       "      <td>8.942176e+06</td>\n",
       "    </tr>\n",
       "    <tr>\n",
       "      <th>sale_price</th>\n",
       "      <td>258464.0</td>\n",
       "      <td>1.480856e+06</td>\n",
       "      <td>1.049733e+07</td>\n",
       "      <td>0.0</td>\n",
       "      <td>0.0</td>\n",
       "      <td>550000.0</td>\n",
       "      <td>990000.00</td>\n",
       "      <td>1.033000e+09</td>\n",
       "    </tr>\n",
       "  </tbody>\n",
       "</table>\n",
       "</div>"
      ],
      "text/plain": [
       "                      count          mean           std  min     25%  \\\n",
       "block              258464.0  4.205347e+03  3.583534e+03  1.0  1251.0   \n",
       "lot                258464.0  3.907985e+02  6.638566e+02  1.0    22.0   \n",
       "residential_units  199349.0  3.110941e+00  2.938664e+01  0.0     1.0   \n",
       "commercial_units   162951.0  3.333149e-01  8.103192e+00  0.0     0.0   \n",
       "total_units        205304.0  3.285260e+00  2.992773e+01  0.0     1.0   \n",
       "land_square_feet   156996.0  6.006378e+03  1.139290e+05  0.0  1900.0   \n",
       "gross_square_feet  156996.0  5.488587e+03  4.887278e+04  0.0  1224.0   \n",
       "sale_price         258464.0  1.480856e+06  1.049733e+07  0.0     0.0   \n",
       "\n",
       "                        50%        75%           max  \n",
       "block                3273.5    6251.00  1.635000e+04  \n",
       "lot                    52.0    1003.00  9.116000e+03  \n",
       "residential_units       1.0       2.00  8.764000e+03  \n",
       "commercial_units        0.0       0.00  2.261000e+03  \n",
       "total_units             1.0       2.00  8.812000e+03  \n",
       "land_square_feet     2500.0    3909.25  7.649136e+06  \n",
       "gross_square_feet    1810.0    2670.00  8.942176e+06  \n",
       "sale_price         550000.0  990000.00  1.033000e+09  "
      ]
     },
     "execution_count": 15,
     "metadata": {},
     "output_type": "execute_result"
    }
   ],
   "source": [
    "df.describe().transpose()"
   ]
  },
  {
   "attachments": {},
   "cell_type": "markdown",
   "metadata": {
    "id": "7Qp4bzqREMuV"
   },
   "source": [
    "### (2) How many features have missing values?\n",
    "> **Answer:**\n",
    "- There are **10 features** in the DataFrame that have missing values. The number of missing values for each feature is as follows in the code results.\n"
   ]
  },
  {
   "cell_type": "code",
   "execution_count": 16,
   "metadata": {
    "colab": {
     "base_uri": "https://localhost:8080/"
    },
    "id": "BgB-YnEsC3nP",
    "outputId": "b281e745-8e7a-4cab-cbd8-ff2eae2f2cd2"
   },
   "outputs": [
    {
     "name": "stdout",
     "output_type": "stream",
     "text": [
      "Total Number of missing values in the Dataset 624750\n",
      "\n"
     ]
    },
    {
     "data": {
      "text/plain": [
       "apartment_number             195519\n",
       "land_square_feet             101468\n",
       "gross_square_feet            101468\n",
       "commercial_units              95513\n",
       "residential_units             59115\n",
       "total_units                   53160\n",
       "year_built                    17846\n",
       "tax_class_at_present            321\n",
       "building_class_at_present       321\n",
       "zip_code                         19\n",
       "dtype: int64"
      ]
     },
     "execution_count": 16,
     "metadata": {},
     "output_type": "execute_result"
    }
   ],
   "source": [
    "missing = df.isna().sum().sort_values(ascending = False)\n",
    "print(f'Total Number of missing values in the Dataset {missing.sum()}\\n')\n",
    "missing = missing[missing>0]\n",
    "missing"
   ]
  },
  {
   "cell_type": "markdown",
   "metadata": {
    "id": "V01L6H-CAVi8"
   },
   "source": [
    "> **OBSERVATION**: The total number of missing values in the DataFrame is 624,750. This represents a significant portion of the DataFrame, and it is important to consider how to handle these missing values before proceeding with any analysis."
   ]
  },
  {
   "cell_type": "markdown",
   "metadata": {
    "id": "e_LsgDmZEJK1"
   },
   "source": [
    "**Visualize missing values**"
   ]
  },
  {
   "cell_type": "code",
   "execution_count": 17,
   "metadata": {
    "colab": {
     "base_uri": "https://localhost:8080/",
     "height": 588
    },
    "id": "z62hDhpqM78I",
    "outputId": "8a4c0685-3bdf-4da7-e37b-d19f1d3af7e7"
   },
   "outputs": [
    {
     "data": {
      "text/plain": [
       "<AxesSubplot:>"
      ]
     },
     "execution_count": 17,
     "metadata": {},
     "output_type": "execute_result"
    },
    {
     "data": {
      "image/png": "[encoded data removed]",
      "text/plain": [
       "<Figure size 1000x400 with 3 Axes>"
      ]
     },
     "metadata": {},
     "output_type": "display_data"
    }
   ],
   "source": [
    "msno.bar(df[missing.index],figsize=(10,4),color='darkgreen', fontsize=10)"
   ]
  },
  {
   "cell_type": "code",
   "execution_count": 18,
   "metadata": {
    "colab": {
     "base_uri": "https://localhost:8080/",
     "height": 645
    },
    "id": "cyCCNffXD87P",
    "outputId": "bb468bd0-80c0-4068-da6e-21989ca015db"
   },
   "outputs": [
    {
     "data": {
      "text/plain": [
       "<AxesSubplot:>"
      ]
     },
     "execution_count": 18,
     "metadata": {},
     "output_type": "execute_result"
    },
    {
     "data": {
      "image/png": "[encoded data removed]",
      "text/plain": [
       "<Figure size 640x480 with 1 Axes>"
      ]
     },
     "metadata": {},
     "output_type": "display_data"
    }
   ],
   "source": [
    "# Heatmap\n",
    "sns.heatmap(df.isna(),yticklabels = False, cbar = False, cmap = 'Greys_r')"
   ]
  },
  {
   "cell_type": "code",
   "execution_count": 19,
   "metadata": {},
   "outputs": [
    {
     "data": {
      "text/plain": [
       "<AxesSubplot:>"
      ]
     },
     "execution_count": 19,
     "metadata": {},
     "output_type": "execute_result"
    },
    {
     "data": {
      "image/png": "[encoded data removed]",
      "text/plain": [
       "<Figure size 900x600 with 2 Axes>"
      ]
     },
     "metadata": {},
     "output_type": "display_data"
    }
   ],
   "source": [
    "msno.heatmap(df, figsize = (9,6), fontsize=10)"
   ]
  },
  {
   "cell_type": "markdown",
   "metadata": {},
   "source": [
    "> **OBSERVATION:**\n",
    "The missing values in `land_square_feet` and `gross_square_feet` strongly correlated by `residential_units`, `commercial_units`, and `total_units`. So, the missing pattern is **MAT**."
   ]
  },
  {
   "cell_type": "code",
   "execution_count": 20,
   "metadata": {},
   "outputs": [
    {
     "data": {
      "text/plain": [
       "<AxesSubplot:>"
      ]
     },
     "execution_count": 20,
     "metadata": {},
     "output_type": "execute_result"
    },
    {
     "data": {
      "image/png": "[encoded data removed]",
      "text/plain": [
       "<Figure size 600x400 with 1 Axes>"
      ]
     },
     "metadata": {},
     "output_type": "display_data"
    }
   ],
   "source": [
    "msno.dendrogram(df[list(missing.index)], figsize = (6,4), fontsize=10,)"
   ]
  },
  {
   "cell_type": "markdown",
   "metadata": {},
   "source": [
    "> **OBSERVATION:** \n",
    "- Variables that are clustered together at a low height are **strongly correlated** in terms of their missing values: `gross_square_feet` and `commercial_units`. So, missing values are related to the observed values of `commercial_units` -> Pattern: **(MAT)**.\n",
    "- Variables that are clustered together at a higher height are **less strongly correlated**: `apartment_number`. So, missing values are randomly distributed -> Pattern: **(MCAT)**."
   ]
  },
  {
   "attachments": {},
   "cell_type": "markdown",
   "metadata": {
    "id": "bv0EBeSNFjLV"
   },
   "source": [
    "### (3) What are the patterns of missing values and potential missing data reason for the top-3 most missed features?\n",
    "\n",
    "All details explained in the observation under each cell result."
   ]
  },
  {
   "cell_type": "code",
   "execution_count": 21,
   "metadata": {
    "colab": {
     "base_uri": "https://localhost:8080/"
    },
    "id": "fUMrxdhgC3kn",
    "outputId": "ab46f920-d207-4856-920a-0e581c784245"
   },
   "outputs": [
    {
     "name": "stdout",
     "output_type": "stream",
     "text": [
      "Top-3 most missed features:\n",
      "apartment_number     195519\n",
      "land_square_feet     101468\n",
      "gross_square_feet    101468\n",
      "dtype: int64\n"
     ]
    }
   ],
   "source": [
    "# Print the top-3 most missed features\n",
    "top_3 = missing.nlargest(3)\n",
    "print(\"Top-3 most missed features:\")\n",
    "print(top_3)"
   ]
  },
  {
   "cell_type": "code",
   "execution_count": 22,
   "metadata": {
    "id": "hsQDSYnC10L8"
   },
   "outputs": [],
   "source": [
    "def Check_Pattern(missing, null_col):\n",
    "\n",
    "  \"\"\"\n",
    "  This function checks the missing pattern mechanism of a DataFrame.\n",
    "\n",
    "  Parameters\n",
    "  ----------\n",
    "  missing : pandas.DataFrame of other columns values when the missed column is NaN.\n",
    "\n",
    "  Returns\n",
    "  -------\n",
    "  pandas.DataFrame\n",
    "      The DataFrame with the unique values for feature that has one or 2 unique value when a spasific feature is missed.\n",
    "\n",
    "  \"\"\"\n",
    "  missing = missing.drop(null_col, axis=1)\n",
    "  # Create a new DataFrame to store the unique values for each feature\n",
    "  unique_df = pd.DataFrame(data = np.random.rand(2))\n",
    "\n",
    "  # Iterate over the columns of the DataFrame\n",
    "  for col in missing.columns:\n",
    "\n",
    "      # Get the number of unique values in the column\n",
    "      nunique = missing[col].nunique()\n",
    "\n",
    "      # If the number of unique values is 1 or 2, add the unique values to the DataFrame\n",
    "      if nunique in [0, 1, 2]:\n",
    "          unique_df.loc[:nunique, col + '_unique_vals'] = missing[col].unique()\n",
    "\n",
    "  # Drop the first row from the DataFrame\n",
    "  unique_df.drop(0, axis=1, inplace=True)\n",
    "\n",
    "  # Interpret the result of unique_df\n",
    "  if unique_df.empty:\n",
    "      print(f'\\t- Missing values in `{null_col}` are randomly distributed across the dataset')\n",
    "      print(f'\\t- So that the missing pattern mechanism should be: Missing Completely At Random (MCAR)')\n",
    "  else:\n",
    "      print(f'\\t- Missing values in `{null_col}` depend on the values of other columns. Columns that have 1 or 2 unique are: {list(unique_df.columns)}')\n",
    "      print(f'\\t- So that the missing pattern mechanism should be: Missing At Random (MAR) or Missing Not At Random (MNAR)')\n",
    "  # Return the DataFrame with the unique values for feature that has one or 2 unique value when a spasific feature is missed.\n",
    "  return unique_df\n",
    "###############################################################################################################################################\n",
    "# Investigate the patterns of missing values in each column\n",
    "def Missing_Pattern(col):\n",
    "    print(f\"\\nFeature: {col}\")\n",
    "    print('-'*33)\n",
    "    print(f\"\\t- Number of missing values: {top_3[col]}\")\n",
    "    print(f\"\\t- Percentage of missing values: {(top_3[col]/len(df))*100:.2f}%\")\n",
    "    print(f\"\\t- Data type: {df[col].dtype}\")\n",
    "    print(f\"\\t- Number of unique values: {df[col].nunique()}\")\n",
    "    print(f\"\\t- Most common value: {df[col].value_counts().idxmax()}\")\n",
    "    print(f\"\\nMissing value pattern:\")\n",
    "    print('-'*30)\n",
    "    # other features values when col is missed\n",
    "    missing = df[df[col].isna()]\n",
    "    unique_df = Check_Pattern(missing, col)\n",
    "    return missing, unique_df"
   ]
  },
  {
   "cell_type": "markdown",
   "metadata": {
    "id": "02QKDvly4iYS"
   },
   "source": [
    "#### **Check missing pattern in `apartment_number` feature**"
   ]
  },
  {
   "cell_type": "code",
   "execution_count": 23,
   "metadata": {
    "colab": {
     "base_uri": "https://localhost:8080/"
    },
    "id": "w4fCS_dZIvsE",
    "outputId": "d3dda9dd-e4e7-4eba-8011-c2051b4d74f8"
   },
   "outputs": [
    {
     "name": "stdout",
     "output_type": "stream",
     "text": [
      "\n",
      "Feature: apartment_number\n",
      "---------------------------------\n",
      "\t- Number of missing values: 195519\n",
      "\t- Percentage of missing values: 75.65%\n",
      "\t- Data type: category\n",
      "\t- Number of unique values: 9040\n",
      "\t- Most common value: 3A\n",
      "\n",
      "Missing value pattern:\n",
      "------------------------------\n",
      "\t- Missing values in `apartment_number` are randomly distributed across the dataset\n",
      "\t- So that the missing pattern mechanism should be: Missing Completely At Random (MCAR)\n"
     ]
    }
   ],
   "source": [
    "missing_apart,unique_df1 = Missing_Pattern('apartment_number')"
   ]
  },
  {
   "cell_type": "markdown",
   "metadata": {
    "id": "y8W7fcOFPWvo"
   },
   "source": [
    "> **OBSERVATION**: \n",
    "\n",
    "The `apartment_number` feature has a large number of missing values, with **75.65%**. The values being missing and there are **9040 unique values** in the non-missing data. \n",
    "\n",
    "- **Missing Pattern**: The missing pattern mechanism is **MCAT**. As there is no systematic reason why some data is missing, and that the missing values are randomly distributed across the dataset.\n",
    "\n",
    "- **Action**: Remove the column."
   ]
  },
  {
   "cell_type": "markdown",
   "metadata": {
    "id": "NLNz1zTA4yxh"
   },
   "source": [
    "#### **Check missing pattern in `gross_square_feet` and `land_square_feet` features**"
   ]
  },
  {
   "cell_type": "code",
   "execution_count": 24,
   "metadata": {
    "colab": {
     "base_uri": "https://localhost:8080/",
     "height": 358
    },
    "id": "S1oESFc465PR",
    "outputId": "5d394542-ea2f-42de-bed3-833b0027dd71"
   },
   "outputs": [
    {
     "name": "stdout",
     "output_type": "stream",
     "text": [
      "\n",
      "Feature: land_square_feet\n",
      "---------------------------------\n",
      "\t- Number of missing values: 101468\n",
      "\t- Percentage of missing values: 39.26%\n",
      "\t- Data type: float64\n",
      "\t- Number of unique values: 9878\n",
      "\t- Most common value: 0.0\n",
      "\n",
      "Missing value pattern:\n",
      "------------------------------\n",
      "\t- Missing values in `land_square_feet` depend on the values of other columns. Columns that have 1 or 2 unique are: ['residential_units_unique_vals', 'commercial_units_unique_vals', 'total_units_unique_vals', 'gross_square_feet_unique_vals']\n",
      "\t- So that the missing pattern mechanism should be: Missing At Random (MAR) or Missing Not At Random (MNAR)\n"
     ]
    },
    {
     "data": {
      "text/html": [
       "<div>\n",
       "<style scoped>\n",
       "    .dataframe tbody tr th:only-of-type {\n",
       "        vertical-align: middle;\n",
       "    }\n",
       "\n",
       "    .dataframe tbody tr th {\n",
       "        vertical-align: top;\n",
       "    }\n",
       "\n",
       "    .dataframe thead th {\n",
       "        text-align: right;\n",
       "    }\n",
       "</style>\n",
       "<table border=\"1\" class=\"dataframe\">\n",
       "  <thead>\n",
       "    <tr style=\"text-align: right;\">\n",
       "      <th></th>\n",
       "      <th>residential_units_unique_vals</th>\n",
       "      <th>commercial_units_unique_vals</th>\n",
       "      <th>total_units_unique_vals</th>\n",
       "      <th>gross_square_feet_unique_vals</th>\n",
       "    </tr>\n",
       "  </thead>\n",
       "  <tbody>\n",
       "    <tr>\n",
       "      <th>0</th>\n",
       "      <td>NaN</td>\n",
       "      <td>NaN</td>\n",
       "      <td>NaN</td>\n",
       "      <td>NaN</td>\n",
       "    </tr>\n",
       "    <tr>\n",
       "      <th>1</th>\n",
       "      <td>1.0</td>\n",
       "      <td>1.0</td>\n",
       "      <td>1.0</td>\n",
       "      <td>NaN</td>\n",
       "    </tr>\n",
       "  </tbody>\n",
       "</table>\n",
       "</div>"
      ],
      "text/plain": [
       "   residential_units_unique_vals  commercial_units_unique_vals  \\\n",
       "0                            NaN                           NaN   \n",
       "1                            1.0                           1.0   \n",
       "\n",
       "   total_units_unique_vals  gross_square_feet_unique_vals  \n",
       "0                      NaN                            NaN  \n",
       "1                      1.0                            NaN  "
      ]
     },
     "execution_count": 24,
     "metadata": {},
     "output_type": "execute_result"
    }
   ],
   "source": [
    "missing_land_sqrt,unique_df2 = Missing_Pattern('land_square_feet')\n",
    "unique_df2"
   ]
  },
  {
   "cell_type": "code",
   "execution_count": 25,
   "metadata": {
    "colab": {
     "base_uri": "https://localhost:8080/",
     "height": 358
    },
    "id": "4_P905c-Q022",
    "outputId": "8316c11a-3293-4a3c-8ed7-1c9ca9b1be4a"
   },
   "outputs": [
    {
     "name": "stdout",
     "output_type": "stream",
     "text": [
      "\n",
      "Feature: gross_square_feet\n",
      "---------------------------------\n",
      "\t- Number of missing values: 101468\n",
      "\t- Percentage of missing values: 39.26%\n",
      "\t- Data type: float64\n",
      "\t- Number of unique values: 9114\n",
      "\t- Most common value: 0.0\n",
      "\n",
      "Missing value pattern:\n",
      "------------------------------\n",
      "\t- Missing values in `gross_square_feet` depend on the values of other columns. Columns that have 1 or 2 unique are: ['residential_units_unique_vals', 'commercial_units_unique_vals', 'total_units_unique_vals', 'land_square_feet_unique_vals']\n",
      "\t- So that the missing pattern mechanism should be: Missing At Random (MAR) or Missing Not At Random (MNAR)\n"
     ]
    },
    {
     "data": {
      "text/html": [
       "<div>\n",
       "<style scoped>\n",
       "    .dataframe tbody tr th:only-of-type {\n",
       "        vertical-align: middle;\n",
       "    }\n",
       "\n",
       "    .dataframe tbody tr th {\n",
       "        vertical-align: top;\n",
       "    }\n",
       "\n",
       "    .dataframe thead th {\n",
       "        text-align: right;\n",
       "    }\n",
       "</style>\n",
       "<table border=\"1\" class=\"dataframe\">\n",
       "  <thead>\n",
       "    <tr style=\"text-align: right;\">\n",
       "      <th></th>\n",
       "      <th>residential_units_unique_vals</th>\n",
       "      <th>commercial_units_unique_vals</th>\n",
       "      <th>total_units_unique_vals</th>\n",
       "      <th>land_square_feet_unique_vals</th>\n",
       "    </tr>\n",
       "  </thead>\n",
       "  <tbody>\n",
       "    <tr>\n",
       "      <th>0</th>\n",
       "      <td>NaN</td>\n",
       "      <td>NaN</td>\n",
       "      <td>NaN</td>\n",
       "      <td>NaN</td>\n",
       "    </tr>\n",
       "    <tr>\n",
       "      <th>1</th>\n",
       "      <td>1.0</td>\n",
       "      <td>1.0</td>\n",
       "      <td>1.0</td>\n",
       "      <td>NaN</td>\n",
       "    </tr>\n",
       "  </tbody>\n",
       "</table>\n",
       "</div>"
      ],
      "text/plain": [
       "   residential_units_unique_vals  commercial_units_unique_vals  \\\n",
       "0                            NaN                           NaN   \n",
       "1                            1.0                           1.0   \n",
       "\n",
       "   total_units_unique_vals  land_square_feet_unique_vals  \n",
       "0                      NaN                           NaN  \n",
       "1                      1.0                           NaN  "
      ]
     },
     "execution_count": 25,
     "metadata": {},
     "output_type": "execute_result"
    }
   ],
   "source": [
    "missing_gross_sqrt,unique_df3 = Missing_Pattern('gross_square_feet')\n",
    "unique_df3"
   ]
  },
  {
   "cell_type": "markdown",
   "metadata": {
    "id": "4vQ_vlCwfbjm"
   },
   "source": [
    "> **OBSERVATION**: \n",
    "\n",
    "The `land_square_feet` and `gross_square_feet` features have a significant number of missing values, with **39.26%** and there are **9,878 unique non-missing values**. \n",
    "\n",
    "- **Missing Pattern**: The missing pattern mechanism is **MAT** for both features (`land_square_feet` and `gross_square_feet`). As the probability of these two columns being missing depend on the values of the other three columns(`residential_units`, `commercial_units`, and `total_units`). when the units = 1 or `NaN` the `land_square_feet` and `gross_square_feet` is missed.\n",
    "\n",
    "- **Action**: impute the missing values."
   ]
  },
  {
   "cell_type": "markdown",
   "metadata": {
    "tags": []
   },
   "source": [
    "### **Handling Missing values**\n",
    "\n",
    "Given the missing patterns and mechanisms of the features in the dataset, here are some possible methods to handle the missing values:\n",
    "\n",
    "- For `apartment_number`: since it has a large number of missing values, and the missingness is completely at random, it may be reasonable to **exclude this feature from the analysis**.\n",
    "- For `tax_class_at_present`, `building_class_at_present`, and `zip_code`: since it has a few number of missing values, it may be reasonable to **drop the nulls samples** from the dataset.\n",
    "- For `residential_units`, `commercial_units`, `total_units`, and `year_built`: since the missingness is relatively small, and the missingness is completely at random, it may be reasonable to impute the missing values multiple imputation to generate several plausible values for each missing value.\n",
    "- For `land_square_feet` and `gross_square_feet`: since the missingness is related to the value of `residential_units`, `commercial_units`, and `total_units` , I will try 2 possible approach; regression models and **multiple imputation by Chained imputation (MICE)** to generate several plausible values for each missing value and analyze the dataset multiple times using these imputed values."
   ]
  },
  {
   "cell_type": "markdown",
   "metadata": {},
   "source": [
    "#### **Drop `apartment_number`**"
   ]
  },
  {
   "cell_type": "code",
   "execution_count": 26,
   "metadata": {
    "id": "_y3U3b_oe1J6"
   },
   "outputs": [],
   "source": [
    "df = df.drop('apartment_number', axis = 1)"
   ]
  },
  {
   "cell_type": "markdown",
   "metadata": {},
   "source": [
    "#### **Drop Nulls samples from `tax_class_at_present`, `building_class_at_present`, and `zip_code`**"
   ]
  },
  {
   "cell_type": "code",
   "execution_count": 27,
   "metadata": {},
   "outputs": [],
   "source": [
    "# Drop samples with missing values in tax_class_at_present, building_class_at_present, or zip_code\n",
    "df = df.dropna(subset=[\"tax_class_at_present\", \"building_class_at_present\", \"zip_code\"])"
   ]
  },
  {
   "cell_type": "markdown",
   "metadata": {},
   "source": [
    "#### **Handling `year_built` variables using th most frequent values**"
   ]
  },
  {
   "cell_type": "code",
   "execution_count": 28,
   "metadata": {},
   "outputs": [],
   "source": [
    "df['year_built'] = df['year_built'].fillna(df['year_built'].mode()[0])"
   ]
  },
  {
   "cell_type": "markdown",
   "metadata": {},
   "source": [
    "#### **Impute `residential_units`, `commercial_units`, and `total_units` variables using MICE**"
   ]
  },
  {
   "cell_type": "code",
   "execution_count": 29,
   "metadata": {},
   "outputs": [
    {
     "name": "stdout",
     "output_type": "stream",
     "text": [
      "(CVXPY) May 19 07:22:31 AM: Encountered unexpected exception importing solver CVXOPT:\n",
      "ImportError('DLL load failed while importing base: The specified module could not be found.')\n",
      "(CVXPY) May 19 07:22:31 AM: Encountered unexpected exception importing solver GLPK:\n",
      "ImportError('DLL load failed while importing base: The specified module could not be found.')\n",
      "(CVXPY) May 19 07:22:31 AM: Encountered unexpected exception importing solver GLPK_MI:\n",
      "ImportError('DLL load failed while importing base: The specified module could not be found.')\n"
     ]
    }
   ],
   "source": [
    "from fancyimpute import IterativeImputer as MiceImputer\n",
    "\n",
    "# Create a new dataframe with only the relevant columns\n",
    "cols = [\"residential_units\", \"commercial_units\", \"total_units\"]\n",
    "data = df[cols].values\n",
    "\n",
    "# Perform MICE algorithm from the fancyimpute package to impute missing values \n",
    "mice_imputed_data = MiceImputer().fit_transform(data)\n",
    "\n",
    "# Replace the missing values in the original dataframe with the imputed values\n",
    "df[\"residential_units\"] = mice_imputed_data[:, 0]\n",
    "df[\"commercial_units\"] = mice_imputed_data[:, 1]\n",
    "df[\"total_units\"] = mice_imputed_data[:, 2]"
   ]
  },
  {
   "cell_type": "markdown",
   "metadata": {},
   "source": [
    "#### **Impute `land_square_feet`, and `gross_square_feet` variables using Linear Regression**"
   ]
  },
  {
   "cell_type": "code",
   "execution_count": 30,
   "metadata": {},
   "outputs": [
    {
     "name": "stderr",
     "output_type": "stream",
     "text": [
      "C:\\Users\\Lap-5\\AppData\\Local\\Temp\\ipykernel_3240\\1610115318.py:23: SettingWithCopyWarning: \n",
      "A value is trying to be set on a copy of a slice from a DataFrame.\n",
      "Try using .loc[row_indexer,col_indexer] = value instead\n",
      "\n",
      "See the caveats in the documentation: https://pandas.pydata.org/pandas-docs/stable/user_guide/indexing.html#returning-a-view-versus-a-copy\n",
      "  missing_data[\"land_square_feet\"] = reg_land.predict(X_missing)\n",
      "C:\\Users\\Lap-5\\AppData\\Local\\Temp\\ipykernel_3240\\1610115318.py:24: SettingWithCopyWarning: \n",
      "A value is trying to be set on a copy of a slice from a DataFrame.\n",
      "Try using .loc[row_indexer,col_indexer] = value instead\n",
      "\n",
      "See the caveats in the documentation: https://pandas.pydata.org/pandas-docs/stable/user_guide/indexing.html#returning-a-view-versus-a-copy\n",
      "  missing_data[\"gross_square_feet\"] = reg_gross.predict(X_missing)\n"
     ]
    }
   ],
   "source": [
    "from sklearn.linear_model import LinearRegression\n",
    "\n",
    "# Create a new dataframe with only the relevant columns\n",
    "cols = [\"land_square_feet\", \"gross_square_feet\", \"residential_units\", \"commercial_units\", \"total_units\"]\n",
    "data = df[cols].copy()\n",
    "\n",
    "# Split the data into two sets: one with missing values and one without\n",
    "missing_data = data[data.isnull().any(axis=1)]\n",
    "complete_data = data.dropna()\n",
    "\n",
    "# Fit a linear regression model to the complete data\n",
    "# \"land_square_feet\", \"gross_square_feet\" are the target columns\n",
    "X = complete_data.drop(columns=[\"land_square_feet\", \"gross_square_feet\"])\n",
    "y_land = complete_data[\"land_square_feet\"]\n",
    "y_gross = complete_data[\"gross_square_feet\"]\n",
    "\n",
    "# Train 2 linear regression models \n",
    "reg_land = LinearRegression().fit(X, y_land)\n",
    "reg_gross = LinearRegression().fit(X, y_gross)\n",
    "\n",
    "# Use the regression model to predict the missing values\n",
    "X_missing = missing_data.drop(columns=[\"land_square_feet\", \"gross_square_feet\"])\n",
    "missing_data[\"land_square_feet\"] = reg_land.predict(X_missing)\n",
    "missing_data[\"gross_square_feet\"] = reg_gross.predict(X_missing)\n",
    "\n",
    "# Replace the missing values in the original dataframe with the predicted values\n",
    "# df_LR = df.copy()\n",
    "df.update(missing_data)"
   ]
  },
  {
   "cell_type": "code",
   "execution_count": 31,
   "metadata": {},
   "outputs": [
    {
     "data": {
      "text/plain": [
       "0"
      ]
     },
     "execution_count": 31,
     "metadata": {},
     "output_type": "execute_result"
    }
   ],
   "source": [
    "df.isna().sum().sum()"
   ]
  },
  {
   "cell_type": "markdown",
   "metadata": {},
   "source": [
    "#### **Impute `land_square_feet`, and `gross_square_feet` variables using KNN**"
   ]
  },
  {
   "cell_type": "code",
   "execution_count": 32,
   "metadata": {},
   "outputs": [],
   "source": [
    "# from sklearn.impute import KNNImputer\n",
    "\n",
    "# # Impute missing values using KNN\n",
    "# imputed_data = KNNImputer(n_neighbors=5).fit_transform(data)\n",
    "\n",
    "# # Replace the missing values in the original dataframe with the imputed values\n",
    "# df_knn = df.copy()\n",
    "# df_knn[\"land_square_feet\"] = imputed_data[:, 0]\n",
    "# df_knn[\"gross_square_feet\"] = imputed_data[:, 1]"
   ]
  },
  {
   "attachments": {},
   "cell_type": "markdown",
   "metadata": {
    "id": "spN10bfYCY1Q"
   },
   "source": [
    "#### **Missing Pattern:**\n",
    "The dataset has 19 features, both categorical and numeric. 10 of the 19 features have missing values. The most missing values are in apartment_number (195,519), followed by `land_square_feet` and `gross_square_feet` (both at 101,468). \n",
    "- **`apartment_number`**: missing pattern mechanism is **MCAT**. As there is no systematic reason why some data is missing, and that the missing values are randomly distributed across the dataset. \n",
    "- **`land_square_feet` and `gross_square_feet`** : The missing pattern mechanism is **MAT** for the both features. As the probability of these two columns being missing depend on the values of the other three columns(`residential_units`, `commercial_units`, and `total_units`). when the units = 1 or NaN the `land_square_feet` and `gross_square_feet` is missed.\n",
    "\n",
    "#### **Dataset Overview:**\n",
    "After Explorint the dataset, I found that: \n",
    "\n",
    "| Variable                        | Type         | Description                                                                                                                                                          |\n",
    "|---------------------------------|--------------|----------------------------------------------------------------------------------------------------------------------------------------------------------------------|\n",
    "| borough                         | categorical  | A digit code for the borough the property is located in; in order these are Manhattan (1), Bronx (2), Brooklyn (3), Queens (4), and Staten Island (5).            |\n",
    "| neighborhood                    | categorical  | The name of the neighborhood where the property is located.                                                                                                         |\n",
    "| building_class_category         | categorical  | A code indicating the type of building (in this case, all properties are classified as 01 ONE FAMILY DWELLINGS).                                                    |\n",
    "| tax_class_at_present            | categorical  | Every property in the city is assigned to one of four tax classes (Classes 1, 2, 3, and 4), based on the use of the property.                                          |\n",
    "| block                           | numeric      | A Tax Block is a sub-division of the borough on which real properties are located. The Department of Finance uses a Borough-Block-Lot classification to label all real property in the City. |\n",
    "| building_class_at_time_of_sale  | categorical  | A code indicating the type of building at the time of sale. The first position of the Building Class is a letter that is used to describe a general class of properties (for example “A” signifies one-family homes, “O” signifies office buildings. “R” signifies condominiums). |\n",
    "| address                         | text         | The street address of the property.                                                                                                                                 |\n",
    "| zip_code                        | categorical  | The ZIP code of the property.                                                                                                                                       |\n",
    "| residential_units               | numeric      | The number of residential units in the building.                                                                                                                    |\n",
    "| commercial_units                | numeric      | The number of commercial units in the building.                                                                                                                     |\n",
    "| total_units                     | numeric      | The total number of units in the building.                                                                                                                          |\n",
    "| land_square_feet                | numeric      | The area of the land on which the building is located.                                                                                                               |\n",
    "| gross_square_feet               | numeric      | The total area of all the floors of a building as measured from the exterior surfaces of the outside walls of the building, including the land area and space within any building or structure on the property. |\n",
    "| year_built                      | categorical  | The year the building was constructed.                                                                                                                               |\n",
    "| tax_class_at_time_of_sale       | categorical  | The tax class of the property at the time of sale.                                                                                                                  |\n",
    "| building_class_at_time_of_sale  | categorical  | A code indicating the type of building at the time of sale.                                                                                                          |\n",
    "| sale_price                      | numeric      | The sale price of the property.                                                                                                                                     |\n",
    "| sale_date                       | datetime     | The date of the sale.                                                                                                                                               |\n",
    "> **Sources**: \n",
    "\n",
    "1. [NYC-Real-Estate-Price-prediction](http://github.com/paripon123/NYC-Real-Estate-price-prediction)\n",
    "2. [New-York-Price-Prediction (Actual-Data)](http://github.com/ashishtele/New-York-Price-Prediction---Actual-Data)\n",
    "3. [BA 505 Python for Analytics (DSB 2018)](http://github.com/fairfield-university-ba505-fall2018/final-project-robotics-champs)\n",
    "4. [NYC Property Sales by Aviv Farag, Joseph Logan, and Abdulaziz Alquzi](http://github.com/avivfaraj/DSCI631-project)\n",
    "5. [NYC Property Sales on Kaggle](http://www.kaggle.com/ritabo/projekt-ml)\n",
    "\n",
    "----"
   ]
  },
  {
   "cell_type": "markdown",
   "metadata": {},
   "source": [
    "### **Graphically Check Normality**"
   ]
  },
  {
   "cell_type": "code",
   "execution_count": 33,
   "metadata": {},
   "outputs": [],
   "source": [
    "def graph_normality(df, feature):\n",
    "    fig, axes = plt.subplots(1, 2, figsize=(10, 3))\n",
    "\n",
    "    # plot a histogram of the feature variable\n",
    "    sns.distplot(df[feature], kde=True, hist_kws=dict(edgecolor=\"k\"), ax=axes[0])\n",
    "\n",
    "    # Calculate skewness and kurtosis then add them to the plot\n",
    "    skewness = stats.skew(df[feature])\n",
    "    kurt = stats.kurtosis(df[feature])\n",
    "    axes[0].text(0.65, 0.85, f\"Skewness: {skewness:.2f}\", transform=axes[0].transAxes, fontsize=9)\n",
    "    axes[0].text(0.65, 0.75, f\"Kurtosis: {kurt:.2f}\", transform=axes[0].transAxes, fontsize=9)\n",
    "    \n",
    "    # Create a QQ plot\n",
    "    sm.qqplot(df[feature], line='45', ax=axes[1], fit = True)\n",
    "\n",
    "    # add a title to the plot\n",
    "    fig.suptitle(f\"Distribution and QQ plot of '{feature}'\", fontsize=12)\n",
    "    plt.show()"
   ]
  },
  {
   "cell_type": "code",
   "execution_count": 34,
   "metadata": {},
   "outputs": [
    {
     "name": "stderr",
     "output_type": "stream",
     "text": [
      "C:\\Users\\Lap-5\\anaconda3\\lib\\site-packages\\seaborn\\distributions.py:2619: FutureWarning: `distplot` is a deprecated function and will be removed in a future version. Please adapt your code to use either `displot` (a figure-level function with similar flexibility) or `histplot` (an axes-level function for histograms).\n",
      "  warnings.warn(msg, FutureWarning)\n"
     ]
    },
    {
     "data": {
      "image/png": "[encoded data removed]",
      "text/plain": [
       "<Figure size 1000x300 with 2 Axes>"
      ]
     },
     "metadata": {},
     "output_type": "display_data"
    }
   ],
   "source": [
    "graph_normality(df, 'sale_price')"
   ]
  },
  {
   "cell_type": "markdown",
   "metadata": {},
   "source": [
    "> **OBSERVATION:** \n",
    "-  The histogram of the `sales_price` variable shows that the data is not normally distributed. The data is **skewed to the right**, with a long tail on the right side. This indicates that there are more data points at the lower end of the distribution than at the higher end.\n",
    "- It is very crowded below the 2,000,000 price point as expected. Lets create a new limitation where the dataset will only include sale prices below 2,000,000."
   ]
  },
  {
   "cell_type": "code",
   "execution_count": 35,
   "metadata": {},
   "outputs": [
    {
     "name": "stderr",
     "output_type": "stream",
     "text": [
      "C:\\Users\\Lap-5\\anaconda3\\lib\\site-packages\\seaborn\\distributions.py:2619: FutureWarning: `distplot` is a deprecated function and will be removed in a future version. Please adapt your code to use either `displot` (a figure-level function with similar flexibility) or `histplot` (an axes-level function for histograms).\n",
      "  warnings.warn(msg, FutureWarning)\n"
     ]
    },
    {
     "data": {
      "image/png": "[encoded data removed]",
      "text/plain": [
       "<Figure size 1000x300 with 2 Axes>"
      ]
     },
     "metadata": {},
     "output_type": "display_data"
    }
   ],
   "source": [
    "# Visualize and calculate the skewness\n",
    "df_price = df[(df.sale_price < 2000000)]\n",
    "graph_normality(df_price, 'sale_price')"
   ]
  },
  {
   "cell_type": "markdown",
   "metadata": {},
   "source": [
    "> **OBSERVATION:** \n",
    "\n",
    " - Still a bit crowded, but this gives a better idea of the distribution of sale prices. After removing outliers over 200,000,000, the sale price variable appears to be normally distributed and skewed to the right with the exception of the most frequent housing sale price approaching 0."
   ]
  },
  {
   "cell_type": "code",
   "execution_count": 36,
   "metadata": {},
   "outputs": [
    {
     "name": "stderr",
     "output_type": "stream",
     "text": [
      "C:\\Users\\Lap-5\\anaconda3\\lib\\site-packages\\seaborn\\distributions.py:2619: FutureWarning: `distplot` is a deprecated function and will be removed in a future version. Please adapt your code to use either `displot` (a figure-level function with similar flexibility) or `histplot` (an axes-level function for histograms).\n",
      "  warnings.warn(msg, FutureWarning)\n"
     ]
    },
    {
     "data": {
      "image/png": "[encoded data removed]",
      "text/plain": [
       "<Figure size 1000x300 with 2 Axes>"
      ]
     },
     "metadata": {},
     "output_type": "display_data"
    }
   ],
   "source": [
    "# Visualize and calculate the skewness\n",
    "df_price = df[(df.sale_price < 2000000) & (df.sale_price > 1000)]\n",
    "graph_normality(df_price, 'sale_price')"
   ]
  },
  {
   "cell_type": "markdown",
   "metadata": {},
   "source": [
    "> **OBSERVATION:** Positive kurtosis indicates that a distribution is **more peaked than the normal distribution**, with more values concentrated in the tails. In other words, the distribution has **more extreme values than the normal distribution**."
   ]
  },
  {
   "cell_type": "markdown",
   "metadata": {},
   "source": [
    "**Check Normality after removing Oultiers**"
   ]
  },
  {
   "cell_type": "code",
   "execution_count": 37,
   "metadata": {},
   "outputs": [
    {
     "data": {
      "text/html": [
       "<div>\n",
       "<style scoped>\n",
       "    .dataframe tbody tr th:only-of-type {\n",
       "        vertical-align: middle;\n",
       "    }\n",
       "\n",
       "    .dataframe tbody tr th {\n",
       "        vertical-align: top;\n",
       "    }\n",
       "\n",
       "    .dataframe thead th {\n",
       "        text-align: right;\n",
       "    }\n",
       "</style>\n",
       "<table border=\"1\" class=\"dataframe\">\n",
       "  <thead>\n",
       "    <tr style=\"text-align: right;\">\n",
       "      <th></th>\n",
       "      <th>count</th>\n",
       "      <th>mean</th>\n",
       "      <th>std</th>\n",
       "      <th>min</th>\n",
       "      <th>25%</th>\n",
       "      <th>50%</th>\n",
       "      <th>75%</th>\n",
       "      <th>max</th>\n",
       "      <th>skewness</th>\n",
       "      <th>Kurtosis</th>\n",
       "    </tr>\n",
       "  </thead>\n",
       "  <tbody>\n",
       "    <tr>\n",
       "      <th>block</th>\n",
       "      <td>258124.0</td>\n",
       "      <td>4.208231e+03</td>\n",
       "      <td>3.583901e+03</td>\n",
       "      <td>1.000000e+00</td>\n",
       "      <td>1.252000e+03</td>\n",
       "      <td>3277.0</td>\n",
       "      <td>6253.000000</td>\n",
       "      <td>1.635000e+04</td>\n",
       "      <td>1.060439</td>\n",
       "      <td>0.662088</td>\n",
       "    </tr>\n",
       "    <tr>\n",
       "      <th>lot</th>\n",
       "      <td>258124.0</td>\n",
       "      <td>3.898225e+02</td>\n",
       "      <td>6.636337e+02</td>\n",
       "      <td>1.000000e+00</td>\n",
       "      <td>2.200000e+01</td>\n",
       "      <td>51.0</td>\n",
       "      <td>1003.000000</td>\n",
       "      <td>9.116000e+03</td>\n",
       "      <td>3.339526</td>\n",
       "      <td>22.564749</td>\n",
       "    </tr>\n",
       "    <tr>\n",
       "      <th>residential_units</th>\n",
       "      <td>258124.0</td>\n",
       "      <td>3.025776e+00</td>\n",
       "      <td>2.582903e+01</td>\n",
       "      <td>0.000000e+00</td>\n",
       "      <td>1.000000e+00</td>\n",
       "      <td>1.0</td>\n",
       "      <td>3.000000</td>\n",
       "      <td>8.764000e+03</td>\n",
       "      <td>160.526775</td>\n",
       "      <td>51463.915733</td>\n",
       "    </tr>\n",
       "    <tr>\n",
       "      <th>commercial_units</th>\n",
       "      <td>258124.0</td>\n",
       "      <td>2.652611e-01</td>\n",
       "      <td>6.439376e+00</td>\n",
       "      <td>0.000000e+00</td>\n",
       "      <td>0.000000e+00</td>\n",
       "      <td>0.0</td>\n",
       "      <td>0.265261</td>\n",
       "      <td>2.261000e+03</td>\n",
       "      <td>205.892459</td>\n",
       "      <td>63780.805523</td>\n",
       "    </tr>\n",
       "    <tr>\n",
       "      <th>total_units</th>\n",
       "      <td>258124.0</td>\n",
       "      <td>3.288451e+00</td>\n",
       "      <td>2.669047e+01</td>\n",
       "      <td>0.000000e+00</td>\n",
       "      <td>1.000000e+00</td>\n",
       "      <td>2.0</td>\n",
       "      <td>3.288451</td>\n",
       "      <td>8.812000e+03</td>\n",
       "      <td>150.611490</td>\n",
       "      <td>46337.477307</td>\n",
       "    </tr>\n",
       "    <tr>\n",
       "      <th>land_square_feet</th>\n",
       "      <td>258124.0</td>\n",
       "      <td>-2.971528e+09</td>\n",
       "      <td>1.214521e+10</td>\n",
       "      <td>-8.171504e+10</td>\n",
       "      <td>-2.971528e+09</td>\n",
       "      <td>1680.0</td>\n",
       "      <td>2653.000000</td>\n",
       "      <td>7.649136e+06</td>\n",
       "      <td>-6.238613</td>\n",
       "      <td>37.508593</td>\n",
       "    </tr>\n",
       "    <tr>\n",
       "      <th>gross_square_feet</th>\n",
       "      <td>258124.0</td>\n",
       "      <td>-1.957087e+09</td>\n",
       "      <td>7.998996e+09</td>\n",
       "      <td>-5.381861e+10</td>\n",
       "      <td>-1.957087e+09</td>\n",
       "      <td>1040.0</td>\n",
       "      <td>2064.000000</td>\n",
       "      <td>8.942176e+06</td>\n",
       "      <td>-6.238612</td>\n",
       "      <td>37.508592</td>\n",
       "    </tr>\n",
       "    <tr>\n",
       "      <th>sale_price</th>\n",
       "      <td>258124.0</td>\n",
       "      <td>1.480195e+06</td>\n",
       "      <td>1.050328e+07</td>\n",
       "      <td>0.000000e+00</td>\n",
       "      <td>0.000000e+00</td>\n",
       "      <td>550000.0</td>\n",
       "      <td>990000.000000</td>\n",
       "      <td>1.033000e+09</td>\n",
       "      <td>46.136657</td>\n",
       "      <td>3356.362271</td>\n",
       "    </tr>\n",
       "  </tbody>\n",
       "</table>\n",
       "</div>"
      ],
      "text/plain": [
       "                      count          mean           std           min  \\\n",
       "block              258124.0  4.208231e+03  3.583901e+03  1.000000e+00   \n",
       "lot                258124.0  3.898225e+02  6.636337e+02  1.000000e+00   \n",
       "residential_units  258124.0  3.025776e+00  2.582903e+01  0.000000e+00   \n",
       "commercial_units   258124.0  2.652611e-01  6.439376e+00  0.000000e+00   \n",
       "total_units        258124.0  3.288451e+00  2.669047e+01  0.000000e+00   \n",
       "land_square_feet   258124.0 -2.971528e+09  1.214521e+10 -8.171504e+10   \n",
       "gross_square_feet  258124.0 -1.957087e+09  7.998996e+09 -5.381861e+10   \n",
       "sale_price         258124.0  1.480195e+06  1.050328e+07  0.000000e+00   \n",
       "\n",
       "                            25%       50%            75%           max  \\\n",
       "block              1.252000e+03    3277.0    6253.000000  1.635000e+04   \n",
       "lot                2.200000e+01      51.0    1003.000000  9.116000e+03   \n",
       "residential_units  1.000000e+00       1.0       3.000000  8.764000e+03   \n",
       "commercial_units   0.000000e+00       0.0       0.265261  2.261000e+03   \n",
       "total_units        1.000000e+00       2.0       3.288451  8.812000e+03   \n",
       "land_square_feet  -2.971528e+09    1680.0    2653.000000  7.649136e+06   \n",
       "gross_square_feet -1.957087e+09    1040.0    2064.000000  8.942176e+06   \n",
       "sale_price         0.000000e+00  550000.0  990000.000000  1.033000e+09   \n",
       "\n",
       "                     skewness      Kurtosis  \n",
       "block                1.060439      0.662088  \n",
       "lot                  3.339526     22.564749  \n",
       "residential_units  160.526775  51463.915733  \n",
       "commercial_units   205.892459  63780.805523  \n",
       "total_units        150.611490  46337.477307  \n",
       "land_square_feet    -6.238613     37.508593  \n",
       "gross_square_feet   -6.238612     37.508592  \n",
       "sale_price          46.136657   3356.362271  "
      ]
     },
     "execution_count": 37,
     "metadata": {},
     "output_type": "execute_result"
    }
   ],
   "source": [
    "df_desc = df[num_cols].describe().transpose()\n",
    "df_desc['skewness'] = df[num_cols].skew().values\n",
    "df_desc['Kurtosis'] = df[num_cols].kurtosis().values\n",
    "df_desc"
   ]
  },
  {
   "cell_type": "code",
   "execution_count": 38,
   "metadata": {},
   "outputs": [
    {
     "name": "stdout",
     "output_type": "stream",
     "text": [
      "['block', 'lot', 'residential_units', 'commercial_units', 'total_units', 'sale_price']\n"
     ]
    }
   ],
   "source": [
    "skewed_cols = list( df_desc[df_desc['skewness'] > 1].index)\n",
    "print(skewed_cols)"
   ]
  },
  {
   "cell_type": "code",
   "execution_count": 39,
   "metadata": {},
   "outputs": [
    {
     "data": {
      "text/plain": [
       "(16112, 19)"
      ]
     },
     "execution_count": 39,
     "metadata": {},
     "output_type": "execute_result"
    }
   ],
   "source": [
    "# with the aide of IQR, I limited the features values\n",
    "\n",
    "norm_df = df[(df['sale_price'] <2000000) #limit up to 2,000,000 \n",
    "                       & (df['sale_price'] > 1000) #removes all properties less than $1,000\n",
    "                       & (df['land_square_feet'] < df['gross_square_feet']) #removes instances where land sf is greater than gross sf\n",
    "                       & (df['gross_square_feet'] < 267000) #removes instances where gross sf is greater than 2530 SF\n",
    "                       & (df['gross_square_feet'] > 1224)] #removes instances where gross sf is less than 120 SF\n",
    "\n",
    "norm_df.shape"
   ]
  },
  {
   "cell_type": "code",
   "execution_count": 40,
   "metadata": {},
   "outputs": [
    {
     "name": "stderr",
     "output_type": "stream",
     "text": [
      "C:\\Users\\Lap-5\\anaconda3\\lib\\site-packages\\seaborn\\distributions.py:2619: FutureWarning: `distplot` is a deprecated function and will be removed in a future version. Please adapt your code to use either `displot` (a figure-level function with similar flexibility) or `histplot` (an axes-level function for histograms).\n",
      "  warnings.warn(msg, FutureWarning)\n"
     ]
    },
    {
     "data": {
      "image/png": "[encoded data removed]",
      "text/plain": [
       "<Figure size 1000x300 with 2 Axes>"
      ]
     },
     "metadata": {},
     "output_type": "display_data"
    }
   ],
   "source": [
    "graph_normality(norm_df, 'sale_price')"
   ]
  },
  {
   "cell_type": "markdown",
   "metadata": {},
   "source": [
    "> **OBSERVATION:** Negative kurtosis indicates that a distribution is **flatter than the normal distribution**, with fewer values concentrated in the tails. In other words, the distribution has **fewer extreme values than the normal distribution**."
   ]
  },
  {
   "cell_type": "markdown",
   "metadata": {
    "tags": []
   },
   "source": [
    "### **Statistically Check Normality**"
   ]
  },
  {
   "cell_type": "markdown",
   "metadata": {},
   "source": [
    "#### Shapiro-Wilk test\n",
    "The test statistic is a measure of how far the data deviates from a normal distribution.If the p-value is less than the significance level (usually 0.05), the null hypothesis is rejected, and the sample is considered not normally distributed.\n",
    "\n",
    "Here are some additional details about the Shapiro-Wilk test:\n",
    "- The Shapiro-Wilk test is a parametric test, which means that it makes assumptions about the distribution of the data. In the case of the Shapiro-Wilk test, the assumption is that the data is normally distributed.\n",
    "- The Shapiro-Wilk test is a sensitive test, which means that it can detect even small deviations from normality.\n",
    "- The Shapiro-Wilk test is a relatively powerful test, which means that it has a high probability of detecting a difference from normality if there is one."
   ]
  },
  {
   "cell_type": "code",
   "execution_count": 41,
   "metadata": {},
   "outputs": [
    {
     "name": "stdout",
     "output_type": "stream",
     "text": [
      "Shapiro-Wilk test results\n",
      "------------------------------\n",
      "Test Statistic: 0.073\n",
      "P-value: 0.000\n",
      "Reject the null hypothesis\n",
      "\t> The sample is likely not drawn from a normal distribution\n"
     ]
    },
    {
     "name": "stderr",
     "output_type": "stream",
     "text": [
      "C:\\Users\\Lap-5\\anaconda3\\lib\\site-packages\\scipy\\stats\\_morestats.py:1816: UserWarning: p-value may not be accurate for N > 5000.\n",
      "  warnings.warn(\"p-value may not be accurate for N > 5000.\")\n"
     ]
    }
   ],
   "source": [
    "# Perform the Shapiro-Wilk test\n",
    "stat, pval = stats.shapiro(df['sale_price'])\n",
    "\n",
    "# Print the test results\n",
    "print(\"Shapiro-Wilk test results\")\n",
    "print('-'*30)\n",
    "print(f\"Test Statistic: {stat:.3f}\")\n",
    "print(f\"P-value: {pval:.3f}\")\n",
    "if pval< 0.05:\n",
    "    print('Reject the null hypothesis')\n",
    "    print(\"\\t> The sample is likely not drawn from a normal distribution\")\n",
    "else:\n",
    "    print('Fail to reject the null hypothesis')\n",
    "    print(\"\\t> The sample is likely drawn from a normal distribution\")\n",
    "    "
   ]
  },
  {
   "cell_type": "markdown",
   "metadata": {},
   "source": [
    "> **OBSERVATION**:\n",
    "\n",
    "- **Test statistic**: The test statistic for this test is 0.073, which is small value. This suggests that the data is not normally distributed.\n",
    "- **P-value**: The p-value for this test is 0.000. Therefore, we can reject the null hypothesis of normality and conclude that the data is not normally distributed."
   ]
  },
  {
   "cell_type": "markdown",
   "metadata": {},
   "source": [
    "#### D'Agostino's K^2 Test\n",
    "\n",
    "A low test statistic indicates that the data is not normally distributed. A high test statistic indicates that the data is normally distributed."
   ]
  },
  {
   "cell_type": "code",
   "execution_count": 42,
   "metadata": {},
   "outputs": [
    {
     "name": "stdout",
     "output_type": "stream",
     "text": [
      "D'Agostino's K^2 Test results\n",
      "------------------------------\n",
      "Test Statistic: 788844.978\n",
      "P-value: 0.000\n",
      "Reject the null hypothesis\n",
      "\t> The sample is likely not drawn from a normal distribution\n"
     ]
    }
   ],
   "source": [
    "stat, pval = stats.normaltest(df['sale_price'])\n",
    "\n",
    "# Print the test results\n",
    "print(\"D'Agostino's K^2 Test results\")\n",
    "print('-'*30)\n",
    "print(f\"Test Statistic: {stat:.3f}\")\n",
    "print(f\"P-value: {pval:.3f}\")\n",
    "if pval< 0.05:\n",
    "    print('Reject the null hypothesis')\n",
    "    print(\"\\t> The sample is likely not drawn from a normal distribution\")\n",
    "else:\n",
    "    print('Fail to reject the null hypothesis')\n",
    "    print(\"\\t> The sample is likely drawn from a normal distribution\")\n",
    "    "
   ]
  },
  {
   "cell_type": "markdown",
   "metadata": {},
   "source": [
    "> **OBSERVATION**:\n",
    "\n",
    "- Since the p-value is less than the significance level of 0.05, we reject the null hypothesis and conclude that the sample is likely not drawn from a normal distribution. "
   ]
  },
  {
   "cell_type": "markdown",
   "metadata": {},
   "source": [
    "#### Kolmogorov-Smirnov Test\n",
    "The Kolmogorov-Smirnov test is a non-parametric test, which means that it does not make any assumptions about the distribution of the data. The Kolmogorov-Smirnov test is a relatively powerful test, which means that it has a high probability of detecting a difference from normality if there is one."
   ]
  },
  {
   "cell_type": "code",
   "execution_count": 43,
   "metadata": {},
   "outputs": [
    {
     "name": "stdout",
     "output_type": "stream",
     "text": [
      "Kolmogorov-Smirnov Test results\n",
      "------------------------------\n",
      "Test Statistic: 0.707\n",
      "P-value: 0.000\n",
      "Reject the null hypothesis\n",
      "\t> The sample is likely not drawn from a normal distribution\n"
     ]
    }
   ],
   "source": [
    "stat, pval = stats.kstest(df['sale_price'], 'norm')\n",
    "\n",
    "# Print the test results\n",
    "print(\"Kolmogorov-Smirnov Test results\")\n",
    "print('-'*30)\n",
    "print(f\"Test Statistic: {stat:.3f}\")\n",
    "print(f\"P-value: {pval:.3f}\")\n",
    "if pval< 0.05:\n",
    "    print('Reject the null hypothesis')\n",
    "    print(\"\\t> The sample is likely not drawn from a normal distribution\")\n",
    "else:\n",
    "    print('Fail to reject the null hypothesis')\n",
    "    print(\"\\t> The sample is likely drawn from a normal distribution\")\n"
   ]
  },
  {
   "cell_type": "markdown",
   "metadata": {},
   "source": [
    "> **OBSERVATION**:\n",
    "\n",
    "- Since the p-value is less than the significance level of 0.05, we reject the null hypothesis and conclude that the sample is likely not drawn from a normal distribution."
   ]
  },
  {
   "cell_type": "markdown",
   "metadata": {},
   "source": [
    "#### Anderson-Darling Test\n",
    "If the test statistic is greater than the critical value at the chosen significance level, the null hypothesis is rejected, and the sample is considered not normally distributed.\n"
   ]
  },
  {
   "cell_type": "code",
   "execution_count": 44,
   "metadata": {},
   "outputs": [
    {
     "name": "stdout",
     "output_type": "stream",
     "text": [
      "Anderson-Darling test results\n",
      "------------------------------\n",
      "Test Statistic: 77645.079\n",
      "\n",
      "Significance Level 15.00: Critical Value 0.576\n",
      "Significance Level 10.00: Critical Value 0.656\n",
      "Significance Level 5.00: Critical Value 0.787\n",
      "Significance Level 2.50: Critical Value 0.918\n",
      "Significance Level 1.00: Critical Value 1.092\n",
      "\n",
      "Reject the null hypothesis\n",
      "\t> The sample is not normally distributed\n"
     ]
    }
   ],
   "source": [
    "# Perform the Shapiro-Wilk test\n",
    "anderson_res = stats.anderson(df['sale_price'], dist='norm')\n",
    "\n",
    "# Print the test results\n",
    "print(\"Anderson-Darling test results\")\n",
    "print('-'*30)\n",
    "print(f\"Test Statistic: {anderson_res.statistic:.3f}\\n\")\n",
    "for i, crit_val in enumerate(anderson_res.critical_values):\n",
    "    print(f\"Significance Level {anderson_res.significance_level[i]:.2f}: Critical Value {crit_val:.3f}\")\n",
    "\n",
    "\"\"\"\n",
    "A lower significance level will make it more difficult to reject the null hypothesis, \n",
    "which will make it less likely to detect a difference from normality.\n",
    "\"\"\"\n",
    "if anderson_res.statistic > anderson_res.critical_values[-1]:\n",
    "    print('\\nReject the null hypothesis')\n",
    "    print(\"\\t> The sample is not normally distributed\")\n",
    "else:\n",
    "    print('\\nFail to reject the null hypothesis')\n",
    "    print(\"\\t> The sample is normally distributed\")"
   ]
  },
  {
   "cell_type": "markdown",
   "metadata": {},
   "source": [
    "> **OBSERVATION**:\n",
    "\n",
    "The test statistic is 77645.079, which is greater than all the critical values at different significance levels. Therefore, we **reject the null hypothesis** and conclude that the sample is **not normally distributed**. \n",
    "\n",
    "- Based on the results of the Anderson-Darling test, we can conclude that the data is not normally distributed. This means that we cannot use any statistical tests that assume normality, such as the t-test or the ANOVA. We will need to use a non-parametric test instead."
   ]
  },
  {
   "attachments": {},
   "cell_type": "markdown",
   "metadata": {
    "id": "Ah89kago_nm-"
   },
   "source": [
    "- The histogram of the sales_price variable shows that the data is not normally distributed. The data is skewed to the right, with a long tail on the right side. This indicates that there are more data points at the lower end of the distribution than at the higher end.\n",
    "\n",
    "- The QQplot of sales_price variable shows that the points on the plot deviate significantly from the reference line, so that the variable has heavy tails, or is skewed.\n",
    "\n",
    "- All of the tests have very low p-values (less than the significance level of 0.05), which means that we can reject the null hypothesis that the sample is drawn from a normal distribution. \n",
    "\n",
    "- The Anderson-Darling test also shows that the test statistic is much larger than all the critical values at different significance levels, which further confirms that the sample is not normally distributed.\n"
   ]
  },
  {
   "attachments": {},
   "cell_type": "markdown",
   "metadata": {
    "id": "0Rh3xgIv_nm-",
    "tags": []
   },
   "source": [
    "---\n",
    "---\n",
    "\n",
    "<h1><font color = '#2E58B8'>Hypothesis Testing </font></h1>\n",
    "\n",
    "----\n",
    "\n",
    "Design hypothesis test to answer the following two questions:\n",
    "\n",
    "\"Has the NYC real estate market changed following the declaration of the COVID-19 pandemic in March of 2020?\"\n",
    "\n",
    "\"Do properties in Manhattan sell at higher prices than properties elsewhere?\"\n",
    "\n",
    "For each question, you need to give the null hypothesis $H_0$ and alternative hypothesis $H_1$\n"
   ]
  },
  {
   "attachments": {},
   "cell_type": "markdown",
   "metadata": {},
   "source": [
    "### (1) Has the NYC real estate market changed following the declaration of the COVID-19 pandemic in March of 2020?\n",
    "\n",
    "- **Null hypothesis $H_0$**: The NYC real estate market has not changed following the declaration of the COVID-19 pandemic in March of 2020.\n",
    "- **Alternative hypothesis $H_1$**: The NYC real estate market has changed following the declaration of the COVID-19 pandemic in March of 2020.\n",
    "> To test these hypotheses, we could then use a statistical test to compare the prices of properties before and after the pandemic. If the results of the statistical test are statistically significant, then we can reject the null hypothesis and conclude that the NYC real estate market has changed following the declaration of the pandemic.\n"
   ]
  },
  {
   "cell_type": "code",
   "execution_count": 45,
   "metadata": {
    "id": "jCEytIO6_nm-"
   },
   "outputs": [
    {
     "name": "stdout",
     "output_type": "stream",
     "text": [
      "- Statistics: 0.706934747998532\n",
      "- p-value: 0.0\n",
      "- Reject the null hypothesis\n",
      "    -> The NYC real estate market has changed following the declaration of the pandemic ^_^\n"
     ]
    }
   ],
   "source": [
    "from cliffs_delta import cliffs_delta\n",
    "\n",
    "# Split the data into two groups: before and after March 2020\n",
    "before_covid = df.loc[df['sale_date'] < '2020-03-01']['sale_price']\n",
    "after_covid = df.loc[df['sale_date'] >= '2020-03-01']['sale_price']\n",
    "\n",
    "# The t-test to compare the prices of properties before and after the pandemic\n",
    "print('- Statistics:', stat)\n",
    "print('- p-value:', pval)\n",
    "\n",
    "if pval < 0.05:\n",
    "    print(\"- Reject the null hypothesis\\n    -> The NYC real estate market has changed following the declaration of the pandemic ^_^\")\n",
    "else:\n",
    "    print(\"- Fail to reject the null hypothesis\\n    -> The NYC real estate market has not changed following the declaration of the pandemic\")"
   ]
  },
  {
   "cell_type": "code",
   "execution_count": 46,
   "metadata": {},
   "outputs": [
    {
     "name": "stdout",
     "output_type": "stream",
     "text": [
      "- Statistics: 1580516188.0\n",
      "- p-value: 0.0\n",
      "- Reject the null hypothesis\n",
      "    -> The NYC real estate market has changed following the declaration of the pandemic ^_^\n",
      "- Cliffs delta:  -0.07454842371428096\n",
      "- The difference between the two groups:  negligible\n"
     ]
    }
   ],
   "source": [
    "# Perform the Mann-Whitney U test\n",
    "stat, valp = stats.mannwhitneyu(x=before_covid, y=after_covid, alternative = 'two-sided')\n",
    "print('- Statistics:', stat)\n",
    "print('- p-value:', pval)\n",
    "\n",
    "if pval < 0.05:\n",
    "    print(\"- Reject the null hypothesis\\n    -> The NYC real estate market has changed following the declaration of the pandemic ^_^\")\n",
    "else:\n",
    "    print(\"- Fail to reject the null hypothesis\\n    -> The NYC real estate market has not changed following the declaration of the pandemic\")\n",
    "\n",
    "print('- Cliffs delta: ', cliffs_delta(before_covid,after_covid)[0])\n",
    "print('- The difference between the two groups: ', cliffs_delta(before_covid,after_covid)[1])"
   ]
  },
  {
   "cell_type": "markdown",
   "metadata": {},
   "source": [
    "> **OBSERVATION:** \n",
    "\n",
    "- **Reject the null hypothesis**: The NYC real estate market has changed following the declaration of the pandemic ^_^\n",
    "- The effect size is -0.074, which is considered **negligible**. This suggests that while there is a statistically **significant difference in the prices** of properties before and after the pandemic, the **magnitude of the difference is small**.\n",
    "- The results of the t-test, the Mann-Whitney U test, and Cliff's delta suggest that there is a statistically significant difference between the SALE PRICE before and after COVID-19. **The difference is small, but it is statistically significant.** "
   ]
  },
  {
   "attachments": {},
   "cell_type": "markdown",
   "metadata": {},
   "source": [
    "### (2) Do properties in Manhattan sell at higher prices than properties elsewhere?\n",
    "\n",
    "- **Null hypothesis $H_0$**: Properties in Manhattan do not sell at higher prices than properties elsewhere.\n",
    "- **Alternative hypothesis $H_1$**: Properties in Manhattan sell at higher prices than properties elsewhere.\n",
    "\n",
    "> To test these hypotheses, we could then use a statistical test to compare the prices of properties of properties in Manhattan to the prices of properties elsewhere. If the results of the statistical test are statistically significant, then we can reject the null hypothesis and conclude that that properties in Manhattan sell at higher prices than properties elsewhere.\n"
   ]
  },
  {
   "cell_type": "code",
   "execution_count": 47,
   "metadata": {},
   "outputs": [
    {
     "name": "stdout",
     "output_type": "stream",
     "text": [
      "- Statistics: 7746368785.0\n",
      "- p-value: 0.0\n",
      "- Reject the null hypothesis\n",
      "    -> Properties in Manhattan sell at higher prices than properties elsewhere. ^_^\n",
      "- Cliffs delta:  0.35330705740930907\n",
      "- The difference between the two groups:  medium\n"
     ]
    }
   ],
   "source": [
    "# Perform the Mann-Whitney U test\n",
    "\n",
    "Manhatten = df.loc[df['borough'] == 1]['sale_price']\n",
    "Others = df.loc[df['borough'] != 1]['sale_price']\n",
    "\n",
    "stat, pval =stats.mannwhitneyu(x=Manhatten, y=Others, alternative = 'greater')\n",
    "print('- Statistics:', stat)\n",
    "print('- p-value:', pval)\n",
    "\n",
    "if pval < 0.05:\n",
    "    print(\"- Reject the null hypothesis\\n    -> Properties in Manhattan sell at higher prices than properties elsewhere. ^_^\")\n",
    "else:\n",
    "    print(\"- Fail to reject the null hypothesis\\n    -> Properties in Manhattan do not sell at higher prices than properties elsewhere.\")\n",
    "\n",
    "print('- Cliffs delta: ', cliffs_delta(Manhatten,Others)[0])\n",
    "print('- The difference between the two groups: ', cliffs_delta(Manhatten,Others)[1])"
   ]
  },
  {
   "cell_type": "markdown",
   "metadata": {},
   "source": [
    "> **OBSERVATION:** \n",
    "\n",
    "- The p-value of 0.0 means that the probability of getting the observed results if the null hypothesis is true is 0. This is a very low probability, so we can **reject the null hypothesis**. We can conclude that there is strong evidence that properties in Manhattan sell at higher prices than properties elsewhere.\n",
    "- The effect size of Cliff's delta is **medium** as the value of Cliff's delta is 0.35 (>0.1). This indicates that the difference between the two groups is medium.\n",
    "- Some possible reasons why properties in Manhattan sell at higher prices than properties elsewhere:\n",
    "\n",
    "        - Manhattan is a more desirable place to live. It has a higher population density, more job opportunities, and better schools.\n",
    "        - Manhattan is a more expensive place to live. The cost of living is higher in Manhattan than in other parts of New York City.\n",
    "        - Manhattan is a more competitive market. There are more buyers and sellers in Manhattan than in other parts of New York City."
   ]
  },
  {
   "attachments": {},
   "cell_type": "markdown",
   "metadata": {
    "id": "cp7bjFWe_nm_"
   },
   "source": [
    "---\n",
    "\n",
    "<h2><font color = '#2E58B8'>Testing Conclsuion</font></h2>\n",
    "\n",
    "----\n",
    "- NYC real estate market has changed following the declaration of the COVID-19 pandemic in March of 2020. The prices of properties have decreased, but the magnitude of the decrease is small. \n",
    "- Properties in Manhattan sell at higher prices than properties elsewhere. The difference in prices is medium.\n",
    "\n",
    "**Here are some possible reasons for the changes in the NYC real estate market:**\n",
    "\n",
    "- The COVID-19 pandemic caused a decrease in demand for housing in NYC. The decrease in demand and supply led to a decrease in prices.\n",
    "- During COVID-19 pandemic many people were unable to sell their homes due to the economic downturn.\n",
    "\n",
    "**The difference in prices between properties in Manhattan and properties elsewhere is likely due to a number of factors, including:**\n",
    "\n",
    "    - The higher population density in Manhattan\n",
    "    - The higher job opportunities in Manhattan\n",
    "    - The better schools in Manhattan\n",
    "\n",
    "> These factors make Manhattan a more desirable place to live, which drives up the prices of properties.\n"
   ]
  },
  {
   "cell_type": "markdown",
   "metadata": {
    "tags": []
   },
   "source": [
    "### **Dealing With Categorical Features:** Encoding "
   ]
  },
  {
   "cell_type": "code",
   "execution_count": 48,
   "metadata": {},
   "outputs": [],
   "source": [
    "df1 = df.copy()"
   ]
  },
  {
   "cell_type": "code",
   "execution_count": 49,
   "metadata": {},
   "outputs": [
    {
     "data": {
      "text/plain": [
       "borough                                5\n",
       "neighborhood                         255\n",
       "building_class_category               44\n",
       "tax_class_at_present                  10\n",
       "building_class_at_present            174\n",
       "address                           241220\n",
       "zip_code                             196\n",
       "year_built                           192\n",
       "tax_class_at_time_of_sale              3\n",
       "building_class_at_time_of_sale       173\n",
       "dtype: int64"
      ]
     },
     "execution_count": 49,
     "metadata": {},
     "output_type": "execute_result"
    }
   ],
   "source": [
    "cat_cols = list(df1.select_dtypes(include=[\"category\"]).columns)\n",
    "df1[cat_cols].nunique()"
   ]
  },
  {
   "cell_type": "markdown",
   "metadata": {
    "tags": []
   },
   "source": [
    "#### **Drop `address` ans `zip_code`**"
   ]
  },
  {
   "cell_type": "code",
   "execution_count": 50,
   "metadata": {},
   "outputs": [],
   "source": [
    "df1 = df1.drop(['address','zip_code'], axis = 1);"
   ]
  },
  {
   "cell_type": "markdown",
   "metadata": {},
   "source": [
    "#### **Convert `neighborhood` to 50 categories using KMeans clustering**"
   ]
  },
  {
   "cell_type": "code",
   "execution_count": 51,
   "metadata": {},
   "outputs": [],
   "source": [
    "from sklearn.cluster import KMeans\n",
    "\n",
    "# Create a feature matrix based on the zip_code variable\n",
    "X = pd.get_dummies(df1['neighborhood'])\n",
    "\n",
    "# Create the K-Means model\n",
    "kmeans = KMeans(n_clusters=50)\n",
    "\n",
    "# Fit the model to the data\n",
    "kmeans.fit(X)\n",
    "\n",
    "# Get the cluster labels for each data point\n",
    "labels = kmeans.labels_\n",
    "\n",
    "# Add the cluster labels to the original dataframe\n",
    "df1[\"neighborhood\"] = labels\n",
    "df1[\"neighborhood\"] = df1[\"neighborhood\"].astype('category')"
   ]
  },
  {
   "cell_type": "code",
   "execution_count": 52,
   "metadata": {},
   "outputs": [
    {
     "data": {
      "text/plain": [
       "borough                             5\n",
       "neighborhood                       50\n",
       "building_class_category            44\n",
       "tax_class_at_present               10\n",
       "building_class_at_present         174\n",
       "year_built                        192\n",
       "tax_class_at_time_of_sale           3\n",
       "building_class_at_time_of_sale    173\n",
       "dtype: int64"
      ]
     },
     "execution_count": 52,
     "metadata": {},
     "output_type": "execute_result"
    }
   ],
   "source": [
    "cat_cols = list(df1.select_dtypes(include=[\"category\"]).columns)\n",
    "df1[cat_cols].nunique()"
   ]
  },
  {
   "cell_type": "markdown",
   "metadata": {},
   "source": [
    "#### **Try One-Hot encoding**"
   ]
  },
  {
   "cell_type": "code",
   "execution_count": 53,
   "metadata": {},
   "outputs": [
    {
     "data": {
      "text/plain": [
       "(258124, 652)"
      ]
     },
     "execution_count": 53,
     "metadata": {},
     "output_type": "execute_result"
    }
   ],
   "source": [
    "# Create dummy variables for categorical variables using one-hot encoding\n",
    "cat_cols = list(df1.select_dtypes(include=[\"category\"]).columns)\n",
    "dummy_df = pd.get_dummies(df1[cat_cols], prefix_sep=\"_\")\n",
    "# Add a column of unique IDs\n",
    "dummy_df['id'] = range(dummy_df.shape[0])\n",
    "dummy_df.shape "
   ]
  },
  {
   "cell_type": "markdown",
   "metadata": {},
   "source": [
    "#### **Try Label Encoder**"
   ]
  },
  {
   "cell_type": "code",
   "execution_count": 54,
   "metadata": {},
   "outputs": [
    {
     "data": {
      "text/plain": [
       "(258124, 9)"
      ]
     },
     "execution_count": 54,
     "metadata": {},
     "output_type": "execute_result"
    }
   ],
   "source": [
    "from sklearn.preprocessing import LabelEncoder\n",
    "\n",
    "# Create a label encoder object\n",
    "le = LabelEncoder()\n",
    "\n",
    "# Fit and transform the label encoder to the categorical features\n",
    "le_df = df1[cat_cols].apply(le.fit_transform)\n",
    "le_df['id'] = range(le_df.shape[0])\n",
    "le_df.shape "
   ]
  },
  {
   "cell_type": "markdown",
   "metadata": {},
   "source": [
    "#### **Dealing With Numerical Features:** Scaling"
   ]
  },
  {
   "cell_type": "code",
   "execution_count": 55,
   "metadata": {},
   "outputs": [
    {
     "data": {
      "text/plain": [
       "(258124, 8)"
      ]
     },
     "execution_count": 55,
     "metadata": {},
     "output_type": "execute_result"
    }
   ],
   "source": [
    "from sklearn.preprocessing import RobustScaler\n",
    "\n",
    "num_cols = df1.select_dtypes(include=[np.number]).columns.tolist()\n",
    "# Remove the target variable from the list\n",
    "num_cols.remove('sale_price')  \n",
    "\n",
    "# Create a robust scaler object\n",
    "sc = RobustScaler()\n",
    "\n",
    "# Fit and transform the robust scaler to the numerical features\n",
    "sc_df = sc.fit_transform(df1[num_cols])\n",
    "\n",
    "sc_df = pd.DataFrame(sc_df , columns = num_cols )\n",
    "sc_df['id'] = range(sc_df.shape[0])\n",
    "sc_df.shape"
   ]
  },
  {
   "cell_type": "markdown",
   "metadata": {},
   "source": [
    "#### **Concate the categorical and the numeric dataframes**"
   ]
  },
  {
   "cell_type": "code",
   "execution_count": 56,
   "metadata": {},
   "outputs": [
    {
     "data": {
      "text/plain": [
       "(258124, 658)"
      ]
     },
     "execution_count": 56,
     "metadata": {},
     "output_type": "execute_result"
    }
   ],
   "source": [
    "# Concatenate the label_encoder_df variables with the numeric dataframe\n",
    "sc_df = sc_df.set_index('id') \n",
    "dummy_df = dummy_df.set_index('id')\n",
    "\n",
    "one_hot_final_df = pd.concat([sc_df, dummy_df], axis=1)\n",
    "\n",
    "one_hot_final_df.shape"
   ]
  },
  {
   "cell_type": "code",
   "execution_count": 57,
   "metadata": {},
   "outputs": [
    {
     "data": {
      "text/plain": [
       "(258124, 15)"
      ]
     },
     "execution_count": 57,
     "metadata": {},
     "output_type": "execute_result"
    }
   ],
   "source": [
    "# Concatenate the dummy variables with the numeric dataframe\n",
    "le_df = le_df.set_index('id')\n",
    "\n",
    "label_encoder_final_df = pd.concat([sc_df, le_df], axis=1)\n",
    "\n",
    "label_encoder_final_df.shape"
   ]
  },
  {
   "cell_type": "code",
   "execution_count": 58,
   "metadata": {},
   "outputs": [],
   "source": [
    "from sklearn.metrics import mean_squared_error\n",
    "def rmse(y, y_pred):\n",
    "    return np.sqrt(mean_squared_error(y, y_pred))"
   ]
  },
  {
   "cell_type": "markdown",
   "metadata": {},
   "source": [
    "### **Create Regression model to predict the `sale_price` and diaply the model performance**"
   ]
  },
  {
   "cell_type": "markdown",
   "metadata": {},
   "source": [
    "#### **0. Using Data Encoded by one hot encoder**"
   ]
  },
  {
   "cell_type": "code",
   "execution_count": 59,
   "metadata": {},
   "outputs": [
    {
     "name": "stdout",
     "output_type": "stream",
     "text": [
      "Results When Using The Encoding Data By One-Hot Encoder\n",
      "=================================================================\n",
      "Linear Regression RMSE on the training set: 9489688.551283438\n",
      "Linear Regression RMSE on the testing set : 3480457231514.7407\n",
      "R^2 score: -103588107601.70703\n"
     ]
    }
   ],
   "source": [
    "from sklearn.linear_model import LinearRegression\n",
    "from sklearn.model_selection import train_test_split\n",
    "\n",
    "X = one_hot_final_df\n",
    "y = df1.sale_price\n",
    "\n",
    "# splitting dataset to train and validation sets\n",
    "X_train, X_test, y_train, y_test = train_test_split(X, y, test_size=0.2, random_state=42)\n",
    "\n",
    "# Define the linear regression model\n",
    "model1 = LinearRegression().fit(X_train, y_train)\n",
    "print(\"results when using the encoding data by one-hot encoder\".title())\n",
    "print(\"=\"*65)\n",
    "print(\"Linear Regression RMSE on the training set: {}\".format(rmse(y_train.values, model1.predict(X_train.values))))\n",
    "\n",
    "# Evaluate the model on validation set\n",
    "print(\"Linear Regression RMSE on the testing set : {}\".format(rmse(y_test.values,  model1.predict(X_test.values))))\n",
    "score = model1.score(X_test, y_test)\n",
    "print('R^2 score:', score)"
   ]
  },
  {
   "cell_type": "markdown",
   "metadata": {},
   "source": [
    "> **OBSERVATION**: To improve the model, there are a few things to try:\n",
    "\n",
    "1. Using **Label Encoder** instead of one hot encoding.\n",
    "2. Generate **polynomial features from X** and then fit the model. \n",
    "2. Try **regularizing** the model to reduce overfitting, using Ridge or Lasso regression.\n",
    "3. **Remove outlier** values from the y (target) data."
   ]
  },
  {
   "cell_type": "markdown",
   "metadata": {
    "tags": []
   },
   "source": [
    "#### **1. Using Data Encoded by label encoder**"
   ]
  },
  {
   "cell_type": "code",
   "execution_count": 60,
   "metadata": {},
   "outputs": [
    {
     "name": "stdout",
     "output_type": "stream",
     "text": [
      "Results When Using The Encoding Data By Label Encoder\n",
      "=================================================================\n",
      "Linear Regression RMSE on the training set: 10181995.130426943\n",
      "Linear Regression RMSE on the testing set : 10731156.750389745\n",
      "Linear Regression R^2 score  \t\t  : 0.015240058862706074\n"
     ]
    }
   ],
   "source": [
    "X = label_encoder_final_df\n",
    "\n",
    "# splitting dataset to train and validation sets\n",
    "X_train, X_test, y_train, y_test = train_test_split(X, y, test_size=0.2, random_state=42)\n",
    "\n",
    "# Define the linear regression model\n",
    "model2 = LinearRegression().fit(X_train, y_train)\n",
    "print(\"results when using the encoding data by label encoder\".title())\n",
    "print(\"=\"*65)\n",
    "print(\"Linear Regression RMSE on the training set: {}\".format(rmse(y_train.values, model2.predict(X_train.values))))\n",
    "\n",
    "# Evaluate the model on validation set\n",
    "print(\"Linear Regression RMSE on the testing set : {}\".format(rmse(y_test.values,  model2.predict(X_test.values))))\n",
    "score = model2.score(X_test, y_test)\n",
    "print('Linear Regression R^2 score  \\t\\t  :', score)"
   ]
  },
  {
   "cell_type": "markdown",
   "metadata": {},
   "source": [
    "#### **2. Using polynomial regression**"
   ]
  },
  {
   "cell_type": "code",
   "execution_count": 61,
   "metadata": {},
   "outputs": [
    {
     "name": "stdout",
     "output_type": "stream",
     "text": [
      "Results When Using The Encoding Data By Label Encoder With Polynomial Regression Of Degree 2 \n",
      "====================================================================================================\n",
      "Polynomial Regression RMSE on the training set: 9583575.207736874\n",
      "Polynomial Regression RMSE on the testing set : 84371759.39906946\n",
      "Polynomial Regression R^2 score\t\t      : -59.873953384742556\n"
     ]
    }
   ],
   "source": [
    "from sklearn.preprocessing import PolynomialFeatures\n",
    "\n",
    "# Create polynomial features \n",
    "d=2\n",
    "poly_features = PolynomialFeatures(degree = d)  \n",
    "X_poly = poly_features.fit_transform(X)\n",
    "\n",
    "X = label_encoder_final_df\n",
    "# splitting dataset to train and validation sets\n",
    "X_train_poly, X_test_poly, y_train, y_test = train_test_split(X_poly, y, test_size=0.2, random_state=42)\n",
    "\n",
    "# Fit linear regression model \n",
    "poly_model = LinearRegression().fit(X_train_poly, y_train)\n",
    "print(f\"results when using the encoding data by label encoder with Polynomial regression of degree {d} \".title())\n",
    "print(\"=\"*100)\n",
    "print(\"Polynomial Regression RMSE on the training set: {}\".format(rmse(y_train.values, poly_model.predict(X_train_poly))))\n",
    "\n",
    "# Evaluate the model on validation set\n",
    "print(\"Polynomial Regression RMSE on the testing set : {}\".format(rmse(y_test.values,  poly_model.predict(X_test_poly))))\n",
    "score = poly_model.score(X_test_poly, y_test)\n",
    "print('Polynomial Regression R^2 score\\t\\t      :' , score)"
   ]
  },
  {
   "cell_type": "markdown",
   "metadata": {},
   "source": [
    "#### **3. Using Regularization by Ridge**"
   ]
  },
  {
   "cell_type": "code",
   "execution_count": 62,
   "metadata": {},
   "outputs": [
    {
     "name": "stdout",
     "output_type": "stream",
     "text": [
      "Results When Using The Encoding Data By Label Encoder With Regularization By Ridge\n",
      "====================================================================================================\n",
      "Polynomial Regression RMSE on the training set: 10305548.459949506\n",
      "Polynomial Regression RMSE on the testing set: 10783540.15102865\n",
      "R^2 score: -59.873953384742556\n"
     ]
    }
   ],
   "source": [
    "from sklearn.linear_model import Ridge, Lasso\n",
    "# a multiple linear regression model\n",
    "model_base = LinearRegression()\n",
    "\n",
    "# With Ridge \n",
    "lambda_list_ridge = list(np.linspace(20, 25, 101))\n",
    "model_ridge = Ridge(alpha=lambda_list_ridge[0]).fit(X_train, y_train)\n",
    "print(\"results when using the encoding data by label encoder with Regularization by Ridge\".title())\n",
    "print(\"=\"*100)\n",
    "\n",
    "print(\"Polynomial Regression RMSE on the training set: {}\".format(rmse(y_train.values, model_ridge.predict(X_train))))\n",
    "print(\"Polynomial Regression RMSE on the testing set: {}\".format(rmse(y_test.values,  model_ridge.predict(X_test))))\n",
    "score = poly_model.score(X_test_poly, y_test)\n",
    "print('R^2 score:', score)\n"
   ]
  },
  {
   "cell_type": "markdown",
   "metadata": {},
   "source": [
    "#### **4. Using Regularization by Lasso**"
   ]
  },
  {
   "cell_type": "code",
   "execution_count": 63,
   "metadata": {},
   "outputs": [],
   "source": [
    "# lambda_list_lasso = list(np.linspace(0.0006, 0.0007, 11))\n",
    "# model_lasso = Lasso(alpha=lambda_list_lasso[0], max_iter=500000).fit(X_train_poly, y_train)\n",
    "# print(\"results when using the encoding data by label encoder with Regularization by Lasso \".title())\n",
    "# print(\"=\"*100)\n",
    "\n",
    "# print(\"Polynomial Regression RMSE on the training set: {}\".format(rmse(y_train.values, poly_model.predict(X_train_poly))))\n",
    "# print(\"Polynomial Regression RMSE on the testing set: {}\".format(rmse(y_test.values,  poly_model.predict(X_test_poly))))\n",
    "# score = poly_model.score(X_test_poly, y_test)\n",
    "# print('R^2 score:', score)"
   ]
  },
  {
   "cell_type": "markdown",
   "metadata": {
    "id": "sjFRziEt_nm_",
    "tags": []
   },
   "source": [
    "---\n",
    "---\n",
    "<h1><font color = '#A51616'>Question 4</font></h1>\n",
    "\n",
    "---\n",
    "\n",
    "(1) Perform a multiple linear regression analysis on the given data, considering impact of missing values. Note, you need to properly transfer categorical features to numerical features first.\n",
    "(2) Report the features that are significant relevant to sale price based on the results of your regression model.\n",
    "\n",
    "Using **OLS** Model to Check the `p-values` in the $P>|t|$ column of the summary table. If the p-value is less than 0.05, the variable is generally considered significant at the 5% level. In this case, the t-statistic is used to determine if each coefficient is significantly different from zero. Coefficients with t-stats over 2 (or -2) are typically considered significant."
   ]
  },
  {
   "cell_type": "markdown",
   "metadata": {
    "tags": []
   },
   "source": [
    "#### **OLS Using Data Encoded by label encoder**"
   ]
  },
  {
   "cell_type": "code",
   "execution_count": 64,
   "metadata": {
    "tags": []
   },
   "outputs": [],
   "source": [
    "X = label_encoder_final_df\n",
    "y.index = X.index"
   ]
  },
  {
   "cell_type": "code",
   "execution_count": 65,
   "metadata": {},
   "outputs": [
    {
     "name": "stdout",
     "output_type": "stream",
     "text": [
      "sale_price = -39470139666667.43 + -39470139666667.43 * block + -317750.02 * lot + -54307.83 * residential_units + 78940281742412.33 * commercial_units + 10469894462791.34 * total_units + -90325492178598.9 * land_square_feet + -50755024612.07 * gross_square_feet + 152833229100.5 * borough + -254207.12 * neighborhood + 3084.04 * building_class_category + 86511.88 * tax_class_at_present + -376770.72 * building_class_at_present + -2880.25 * year_built + -954.42 * tax_class_at_time_of_sale + 2233972.26 * building_class_at_time_of_sale\n"
     ]
    }
   ],
   "source": [
    "# Fit the regression model\n",
    "model4 = sm.OLS(y, sm.add_constant(X)).fit()\n",
    "\n",
    "equation = f'sale_price = {model4.params[0]}'\n",
    "for i, coeff in enumerate(X.columns):\n",
    "    equation += f' + {np.round(model4.params[i],2)} * {coeff}'\n",
    "\n",
    "print(equation)"
   ]
  },
  {
   "cell_type": "markdown",
   "metadata": {},
   "source": [
    "#### **Significant Features**"
   ]
  },
  {
   "cell_type": "code",
   "execution_count": 71,
   "metadata": {},
   "outputs": [
    {
     "name": "stdout",
     "output_type": "stream",
     "text": [
      "There are 12 significant relevant to sale price features at a significance level of 0.05:\n",
      "['const', 'block', 'residential_units', 'commercial_units', 'total_units', 'land_square_feet', 'gross_square_feet', 'borough', 'neighborhood', 'building_class_category', 'tax_class_at_present', 'tax_class_at_time_of_sale']\n"
     ]
    }
   ],
   "source": [
    "pvals = model4.pvalues\n",
    "coef = model4.params\n",
    "\n",
    "# significance level\n",
    "alpha = 0.05\n",
    "\n",
    "# Check significance of each coefficient\n",
    "significant_features = []\n",
    "for i in range(len(coef)):\n",
    "    if pvals[i] < alpha:\n",
    "        significant_features.append(coef.index[i])\n",
    "\n",
    "# Report the significant features\n",
    "print(f\"There are {len(significant_features)} significant relevant to sale price features at a significance level of {alpha}:\")\n",
    "print(significant_features)"
   ]
  },
  {
   "cell_type": "markdown",
   "metadata": {},
   "source": [
    "#### **OLS Model Summary**"
   ]
  },
  {
   "cell_type": "code",
   "execution_count": 72,
   "metadata": {},
   "outputs": [
    {
     "name": "stdout",
     "output_type": "stream",
     "text": [
      "                            OLS Regression Results                            \n",
      "==============================================================================\n",
      "Dep. Variable:             sale_price   R-squared:                       0.041\n",
      "Model:                            OLS   Adj. R-squared:                  0.041\n",
      "Method:                 Least Squares   F-statistic:                     735.2\n",
      "Date:                Fri, 19 May 2023   Prob (F-statistic):               0.00\n",
      "Time:                        07:27:15   Log-Likelihood:            -4.5340e+06\n",
      "No. Observations:              258124   AIC:                         9.068e+06\n",
      "Df Residuals:                  258108   BIC:                         9.068e+06\n",
      "Df Model:                          15                                         \n",
      "Covariance Type:            nonrobust                                         \n",
      "==============================================================================\n",
      "R-squared: 0.0410\n",
      "Adjusted R-squared: 0.0409\n"
     ]
    }
   ],
   "source": [
    "# Print the coefficient of determination \n",
    "print(model4.summary().tables[0])\n",
    "\n",
    "r_squared = model4.rsquared\n",
    "adj_r_squared = model4.rsquared_adj\n",
    "\n",
    "print(\"R-squared: {:.4f}\".format(r_squared))\n",
    "print(\"Adjusted R-squared: {:.4f}\".format(adj_r_squared))"
   ]
  },
  {
   "cell_type": "code",
   "execution_count": 73,
   "metadata": {},
   "outputs": [
    {
     "data": {
      "text/html": [
       "<div>\n",
       "<style scoped>\n",
       "    .dataframe tbody tr th:only-of-type {\n",
       "        vertical-align: middle;\n",
       "    }\n",
       "\n",
       "    .dataframe tbody tr th {\n",
       "        vertical-align: top;\n",
       "    }\n",
       "\n",
       "    .dataframe thead th {\n",
       "        text-align: right;\n",
       "    }\n",
       "</style>\n",
       "<table border=\"1\" class=\"dataframe\">\n",
       "  <thead>\n",
       "    <tr style=\"text-align: right;\">\n",
       "      <th></th>\n",
       "      <th>coef</th>\n",
       "      <th>std err</th>\n",
       "      <th>t</th>\n",
       "      <th>P&gt;|t|</th>\n",
       "      <th>[0.025</th>\n",
       "      <th>0.975]</th>\n",
       "    </tr>\n",
       "    <tr>\n",
       "      <th></th>\n",
       "      <th></th>\n",
       "      <th></th>\n",
       "      <th></th>\n",
       "      <th></th>\n",
       "      <th></th>\n",
       "      <th></th>\n",
       "    </tr>\n",
       "  </thead>\n",
       "  <tbody>\n",
       "    <tr>\n",
       "      <th>const</th>\n",
       "      <td>-3.947e+13</td>\n",
       "      <td>6.15e+11</td>\n",
       "      <td>-64.163</td>\n",
       "      <td>0.000</td>\n",
       "      <td>-4.07e+13</td>\n",
       "      <td>-3.83e+13</td>\n",
       "    </tr>\n",
       "    <tr>\n",
       "      <th>block</th>\n",
       "      <td>-3.178e+05</td>\n",
       "      <td>3.26e+04</td>\n",
       "      <td>-9.739</td>\n",
       "      <td>0.000</td>\n",
       "      <td>-3.82e+05</td>\n",
       "      <td>-2.54e+05</td>\n",
       "    </tr>\n",
       "    <tr>\n",
       "      <th>lot</th>\n",
       "      <td>-5.431e+04</td>\n",
       "      <td>4.37e+04</td>\n",
       "      <td>-1.243</td>\n",
       "      <td>0.214</td>\n",
       "      <td>-1.4e+05</td>\n",
       "      <td>3.13e+04</td>\n",
       "    </tr>\n",
       "    <tr>\n",
       "      <th>residential_units</th>\n",
       "      <td>7.894e+13</td>\n",
       "      <td>1.23e+12</td>\n",
       "      <td>64.163</td>\n",
       "      <td>0.000</td>\n",
       "      <td>7.65e+13</td>\n",
       "      <td>8.14e+13</td>\n",
       "    </tr>\n",
       "    <tr>\n",
       "      <th>commercial_units</th>\n",
       "      <td>1.047e+13</td>\n",
       "      <td>1.63e+11</td>\n",
       "      <td>64.163</td>\n",
       "      <td>0.000</td>\n",
       "      <td>1.02e+13</td>\n",
       "      <td>1.08e+13</td>\n",
       "    </tr>\n",
       "    <tr>\n",
       "      <th>total_units</th>\n",
       "      <td>-9.033e+13</td>\n",
       "      <td>1.41e+12</td>\n",
       "      <td>-64.163</td>\n",
       "      <td>0.000</td>\n",
       "      <td>-9.31e+13</td>\n",
       "      <td>-8.76e+13</td>\n",
       "    </tr>\n",
       "    <tr>\n",
       "      <th>land_square_feet</th>\n",
       "      <td>-5.076e+10</td>\n",
       "      <td>9.89e+08</td>\n",
       "      <td>-51.330</td>\n",
       "      <td>0.000</td>\n",
       "      <td>-5.27e+10</td>\n",
       "      <td>-4.88e+10</td>\n",
       "    </tr>\n",
       "    <tr>\n",
       "      <th>gross_square_feet</th>\n",
       "      <td>1.528e+11</td>\n",
       "      <td>2.07e+09</td>\n",
       "      <td>73.857</td>\n",
       "      <td>0.000</td>\n",
       "      <td>1.49e+11</td>\n",
       "      <td>1.57e+11</td>\n",
       "    </tr>\n",
       "    <tr>\n",
       "      <th>borough</th>\n",
       "      <td>-2.542e+05</td>\n",
       "      <td>1.9e+04</td>\n",
       "      <td>-13.390</td>\n",
       "      <td>0.000</td>\n",
       "      <td>-2.91e+05</td>\n",
       "      <td>-2.17e+05</td>\n",
       "    </tr>\n",
       "    <tr>\n",
       "      <th>neighborhood</th>\n",
       "      <td>3084.0363</td>\n",
       "      <td>1409.060</td>\n",
       "      <td>2.189</td>\n",
       "      <td>0.029</td>\n",
       "      <td>322.316</td>\n",
       "      <td>5845.756</td>\n",
       "    </tr>\n",
       "    <tr>\n",
       "      <th>building_class_category</th>\n",
       "      <td>8.651e+04</td>\n",
       "      <td>9948.502</td>\n",
       "      <td>8.696</td>\n",
       "      <td>0.000</td>\n",
       "      <td>6.7e+04</td>\n",
       "      <td>1.06e+05</td>\n",
       "    </tr>\n",
       "    <tr>\n",
       "      <th>tax_class_at_present</th>\n",
       "      <td>-3.768e+05</td>\n",
       "      <td>3.12e+04</td>\n",
       "      <td>-12.084</td>\n",
       "      <td>0.000</td>\n",
       "      <td>-4.38e+05</td>\n",
       "      <td>-3.16e+05</td>\n",
       "    </tr>\n",
       "    <tr>\n",
       "      <th>building_class_at_present</th>\n",
       "      <td>-2880.2516</td>\n",
       "      <td>4273.149</td>\n",
       "      <td>-0.674</td>\n",
       "      <td>0.500</td>\n",
       "      <td>-1.13e+04</td>\n",
       "      <td>5495.006</td>\n",
       "    </tr>\n",
       "    <tr>\n",
       "      <th>year_built</th>\n",
       "      <td>-954.4184</td>\n",
       "      <td>627.842</td>\n",
       "      <td>-1.520</td>\n",
       "      <td>0.128</td>\n",
       "      <td>-2184.972</td>\n",
       "      <td>276.135</td>\n",
       "    </tr>\n",
       "    <tr>\n",
       "      <th>tax_class_at_time_of_sale</th>\n",
       "      <td>2.234e+06</td>\n",
       "      <td>1.91e+05</td>\n",
       "      <td>11.698</td>\n",
       "      <td>0.000</td>\n",
       "      <td>1.86e+06</td>\n",
       "      <td>2.61e+06</td>\n",
       "    </tr>\n",
       "    <tr>\n",
       "      <th>building_class_at_time_of_sale</th>\n",
       "      <td>3907.9192</td>\n",
       "      <td>4267.677</td>\n",
       "      <td>0.916</td>\n",
       "      <td>0.360</td>\n",
       "      <td>-4456.613</td>\n",
       "      <td>1.23e+04</td>\n",
       "    </tr>\n",
       "  </tbody>\n",
       "</table>\n",
       "</div>"
      ],
      "text/plain": [
       "                                      coef    std err          t   P>|t|  \\\n",
       "                                                                           \n",
       "const                           -3.947e+13   6.15e+11    -64.163   0.000   \n",
       "block                           -3.178e+05   3.26e+04     -9.739   0.000   \n",
       "lot                             -5.431e+04   4.37e+04     -1.243   0.214   \n",
       "residential_units                7.894e+13   1.23e+12     64.163   0.000   \n",
       "commercial_units                 1.047e+13   1.63e+11     64.163   0.000   \n",
       "total_units                     -9.033e+13   1.41e+12    -64.163   0.000   \n",
       "land_square_feet                -5.076e+10   9.89e+08    -51.330   0.000   \n",
       "gross_square_feet                1.528e+11   2.07e+09     73.857   0.000   \n",
       "borough                         -2.542e+05    1.9e+04    -13.390   0.000   \n",
       "neighborhood                     3084.0363   1409.060      2.189   0.029   \n",
       "building_class_category          8.651e+04   9948.502      8.696   0.000   \n",
       "tax_class_at_present            -3.768e+05   3.12e+04    -12.084   0.000   \n",
       "building_class_at_present       -2880.2516   4273.149     -0.674   0.500   \n",
       "year_built                       -954.4184    627.842     -1.520   0.128   \n",
       "tax_class_at_time_of_sale        2.234e+06   1.91e+05     11.698   0.000   \n",
       "building_class_at_time_of_sale   3907.9192   4267.677      0.916   0.360   \n",
       "\n",
       "                                   [0.025     0.975]  \n",
       "                                                      \n",
       "const                           -4.07e+13  -3.83e+13  \n",
       "block                           -3.82e+05  -2.54e+05  \n",
       "lot                              -1.4e+05   3.13e+04  \n",
       "residential_units                7.65e+13   8.14e+13  \n",
       "commercial_units                 1.02e+13   1.08e+13  \n",
       "total_units                     -9.31e+13  -8.76e+13  \n",
       "land_square_feet                -5.27e+10  -4.88e+10  \n",
       "gross_square_feet                1.49e+11   1.57e+11  \n",
       "borough                         -2.91e+05  -2.17e+05  \n",
       "neighborhood                      322.316   5845.756  \n",
       "building_class_category           6.7e+04   1.06e+05  \n",
       "tax_class_at_present            -4.38e+05  -3.16e+05  \n",
       "building_class_at_present       -1.13e+04   5495.006  \n",
       "year_built                      -2184.972    276.135  \n",
       "tax_class_at_time_of_sale        1.86e+06   2.61e+06  \n",
       "building_class_at_time_of_sale  -4456.613   1.23e+04  "
      ]
     },
     "execution_count": 73,
     "metadata": {},
     "output_type": "execute_result"
    }
   ],
   "source": [
    "# Convert table to list of lists\n",
    "table_data = []\n",
    "for row in model4.summary().tables[1].data:\n",
    "    table_data.append(row)\n",
    "\n",
    "# Convert list of lists to DataFrame\n",
    "results = pd.DataFrame(table_data[1:], columns=table_data[0])\n",
    "\n",
    "# Set the index to the variable names\n",
    "results.set_index('', inplace=True)\n",
    "\n",
    "# Print the resulting DataFrame\n",
    "results"
   ]
  },
  {
   "cell_type": "markdown",
   "metadata": {},
   "source": [
    "> **OBSERVATION:** The model appears to have limited predictive power, as indicated by the low R-squared value\n",
    "- The R-squared is 0.041, which means that the model explains only **4.1%** of the variation in the sale price.\n",
    "- The p-value of the F-statisti is very small, indicating that at least one of the predictor variables is useful in predicting the response variable."
   ]
  },
  {
   "cell_type": "code",
   "execution_count": 74,
   "metadata": {},
   "outputs": [
    {
     "data": {
      "text/html": [
       "<div>\n",
       "<style scoped>\n",
       "    .dataframe tbody tr th:only-of-type {\n",
       "        vertical-align: middle;\n",
       "    }\n",
       "\n",
       "    .dataframe tbody tr th {\n",
       "        vertical-align: top;\n",
       "    }\n",
       "\n",
       "    .dataframe thead th {\n",
       "        text-align: right;\n",
       "    }\n",
       "</style>\n",
       "<table border=\"1\" class=\"dataframe\">\n",
       "  <thead>\n",
       "    <tr style=\"text-align: right;\">\n",
       "      <th></th>\n",
       "      <th>coef</th>\n",
       "      <th>std err</th>\n",
       "      <th>t</th>\n",
       "      <th>P&gt;|t|</th>\n",
       "      <th>[0.025</th>\n",
       "      <th>0.975]</th>\n",
       "    </tr>\n",
       "    <tr>\n",
       "      <th></th>\n",
       "      <th></th>\n",
       "      <th></th>\n",
       "      <th></th>\n",
       "      <th></th>\n",
       "      <th></th>\n",
       "      <th></th>\n",
       "    </tr>\n",
       "  </thead>\n",
       "  <tbody>\n",
       "    <tr>\n",
       "      <th>const</th>\n",
       "      <td>-3.947e+13</td>\n",
       "      <td>6.15e+11</td>\n",
       "      <td>-64.163</td>\n",
       "      <td>0.000</td>\n",
       "      <td>-4.07e+13</td>\n",
       "      <td>-3.83e+13</td>\n",
       "    </tr>\n",
       "    <tr>\n",
       "      <th>block</th>\n",
       "      <td>-3.178e+05</td>\n",
       "      <td>3.26e+04</td>\n",
       "      <td>-9.739</td>\n",
       "      <td>0.000</td>\n",
       "      <td>-3.82e+05</td>\n",
       "      <td>-2.54e+05</td>\n",
       "    </tr>\n",
       "    <tr>\n",
       "      <th>lot</th>\n",
       "      <td>-5.431e+04</td>\n",
       "      <td>4.37e+04</td>\n",
       "      <td>-1.243</td>\n",
       "      <td>0.214</td>\n",
       "      <td>-1.4e+05</td>\n",
       "      <td>3.13e+04</td>\n",
       "    </tr>\n",
       "    <tr>\n",
       "      <th>residential_units</th>\n",
       "      <td>7.894e+13</td>\n",
       "      <td>1.23e+12</td>\n",
       "      <td>64.163</td>\n",
       "      <td>0.000</td>\n",
       "      <td>7.65e+13</td>\n",
       "      <td>8.14e+13</td>\n",
       "    </tr>\n",
       "    <tr>\n",
       "      <th>commercial_units</th>\n",
       "      <td>1.047e+13</td>\n",
       "      <td>1.63e+11</td>\n",
       "      <td>64.163</td>\n",
       "      <td>0.000</td>\n",
       "      <td>1.02e+13</td>\n",
       "      <td>1.08e+13</td>\n",
       "    </tr>\n",
       "    <tr>\n",
       "      <th>total_units</th>\n",
       "      <td>-9.033e+13</td>\n",
       "      <td>1.41e+12</td>\n",
       "      <td>-64.163</td>\n",
       "      <td>0.000</td>\n",
       "      <td>-9.31e+13</td>\n",
       "      <td>-8.76e+13</td>\n",
       "    </tr>\n",
       "    <tr>\n",
       "      <th>land_square_feet</th>\n",
       "      <td>-5.076e+10</td>\n",
       "      <td>9.89e+08</td>\n",
       "      <td>-51.330</td>\n",
       "      <td>0.000</td>\n",
       "      <td>-5.27e+10</td>\n",
       "      <td>-4.88e+10</td>\n",
       "    </tr>\n",
       "    <tr>\n",
       "      <th>gross_square_feet</th>\n",
       "      <td>1.528e+11</td>\n",
       "      <td>2.07e+09</td>\n",
       "      <td>73.857</td>\n",
       "      <td>0.000</td>\n",
       "      <td>1.49e+11</td>\n",
       "      <td>1.57e+11</td>\n",
       "    </tr>\n",
       "    <tr>\n",
       "      <th>borough</th>\n",
       "      <td>-2.542e+05</td>\n",
       "      <td>1.9e+04</td>\n",
       "      <td>-13.390</td>\n",
       "      <td>0.000</td>\n",
       "      <td>-2.91e+05</td>\n",
       "      <td>-2.17e+05</td>\n",
       "    </tr>\n",
       "    <tr>\n",
       "      <th>neighborhood</th>\n",
       "      <td>3084.0363</td>\n",
       "      <td>1409.060</td>\n",
       "      <td>2.189</td>\n",
       "      <td>0.029</td>\n",
       "      <td>322.316</td>\n",
       "      <td>5845.756</td>\n",
       "    </tr>\n",
       "    <tr>\n",
       "      <th>building_class_category</th>\n",
       "      <td>8.651e+04</td>\n",
       "      <td>9948.502</td>\n",
       "      <td>8.696</td>\n",
       "      <td>0.000</td>\n",
       "      <td>6.7e+04</td>\n",
       "      <td>1.06e+05</td>\n",
       "    </tr>\n",
       "    <tr>\n",
       "      <th>tax_class_at_present</th>\n",
       "      <td>-3.768e+05</td>\n",
       "      <td>3.12e+04</td>\n",
       "      <td>-12.084</td>\n",
       "      <td>0.000</td>\n",
       "      <td>-4.38e+05</td>\n",
       "      <td>-3.16e+05</td>\n",
       "    </tr>\n",
       "    <tr>\n",
       "      <th>building_class_at_present</th>\n",
       "      <td>-2880.2516</td>\n",
       "      <td>4273.149</td>\n",
       "      <td>-0.674</td>\n",
       "      <td>0.500</td>\n",
       "      <td>-1.13e+04</td>\n",
       "      <td>5495.006</td>\n",
       "    </tr>\n",
       "    <tr>\n",
       "      <th>year_built</th>\n",
       "      <td>-954.4184</td>\n",
       "      <td>627.842</td>\n",
       "      <td>-1.520</td>\n",
       "      <td>0.128</td>\n",
       "      <td>-2184.972</td>\n",
       "      <td>276.135</td>\n",
       "    </tr>\n",
       "    <tr>\n",
       "      <th>tax_class_at_time_of_sale</th>\n",
       "      <td>2.234e+06</td>\n",
       "      <td>1.91e+05</td>\n",
       "      <td>11.698</td>\n",
       "      <td>0.000</td>\n",
       "      <td>1.86e+06</td>\n",
       "      <td>2.61e+06</td>\n",
       "    </tr>\n",
       "    <tr>\n",
       "      <th>building_class_at_time_of_sale</th>\n",
       "      <td>3907.9192</td>\n",
       "      <td>4267.677</td>\n",
       "      <td>0.916</td>\n",
       "      <td>0.360</td>\n",
       "      <td>-4456.613</td>\n",
       "      <td>1.23e+04</td>\n",
       "    </tr>\n",
       "  </tbody>\n",
       "</table>\n",
       "</div>"
      ],
      "text/plain": [
       "                                      coef    std err          t   P>|t|  \\\n",
       "                                                                           \n",
       "const                           -3.947e+13   6.15e+11    -64.163   0.000   \n",
       "block                           -3.178e+05   3.26e+04     -9.739   0.000   \n",
       "lot                             -5.431e+04   4.37e+04     -1.243   0.214   \n",
       "residential_units                7.894e+13   1.23e+12     64.163   0.000   \n",
       "commercial_units                 1.047e+13   1.63e+11     64.163   0.000   \n",
       "total_units                     -9.033e+13   1.41e+12    -64.163   0.000   \n",
       "land_square_feet                -5.076e+10   9.89e+08    -51.330   0.000   \n",
       "gross_square_feet                1.528e+11   2.07e+09     73.857   0.000   \n",
       "borough                         -2.542e+05    1.9e+04    -13.390   0.000   \n",
       "neighborhood                     3084.0363   1409.060      2.189   0.029   \n",
       "building_class_category          8.651e+04   9948.502      8.696   0.000   \n",
       "tax_class_at_present            -3.768e+05   3.12e+04    -12.084   0.000   \n",
       "building_class_at_present       -2880.2516   4273.149     -0.674   0.500   \n",
       "year_built                       -954.4184    627.842     -1.520   0.128   \n",
       "tax_class_at_time_of_sale        2.234e+06   1.91e+05     11.698   0.000   \n",
       "building_class_at_time_of_sale   3907.9192   4267.677      0.916   0.360   \n",
       "\n",
       "                                   [0.025     0.975]  \n",
       "                                                      \n",
       "const                           -4.07e+13  -3.83e+13  \n",
       "block                           -3.82e+05  -2.54e+05  \n",
       "lot                              -1.4e+05   3.13e+04  \n",
       "residential_units                7.65e+13   8.14e+13  \n",
       "commercial_units                 1.02e+13   1.08e+13  \n",
       "total_units                     -9.31e+13  -8.76e+13  \n",
       "land_square_feet                -5.27e+10  -4.88e+10  \n",
       "gross_square_feet                1.49e+11   1.57e+11  \n",
       "borough                         -2.91e+05  -2.17e+05  \n",
       "neighborhood                      322.316   5845.756  \n",
       "building_class_category           6.7e+04   1.06e+05  \n",
       "tax_class_at_present            -4.38e+05  -3.16e+05  \n",
       "building_class_at_present       -1.13e+04   5495.006  \n",
       "year_built                      -2184.972    276.135  \n",
       "tax_class_at_time_of_sale        1.86e+06   2.61e+06  \n",
       "building_class_at_time_of_sale  -4456.613   1.23e+04  "
      ]
     },
     "execution_count": 74,
     "metadata": {},
     "output_type": "execute_result"
    }
   ],
   "source": [
    "# Convert table to list of lists\n",
    "table_data = []\n",
    "for row in model4.summary().tables[1].data:\n",
    "    table_data.append(row)\n",
    "\n",
    "# Convert list of lists to DataFrame\n",
    "results = pd.DataFrame(table_data[1:], columns=table_data[0])\n",
    "\n",
    "# Set the index to the variable names\n",
    "results.set_index('', inplace=True)\n",
    "results"
   ]
  },
  {
   "cell_type": "code",
   "execution_count": 75,
   "metadata": {},
   "outputs": [
    {
     "data": {
      "text/html": [
       "<div>\n",
       "<style scoped>\n",
       "    .dataframe tbody tr th:only-of-type {\n",
       "        vertical-align: middle;\n",
       "    }\n",
       "\n",
       "    .dataframe tbody tr th {\n",
       "        vertical-align: top;\n",
       "    }\n",
       "\n",
       "    .dataframe thead th {\n",
       "        text-align: right;\n",
       "    }\n",
       "</style>\n",
       "<table border=\"1\" class=\"dataframe\">\n",
       "  <thead>\n",
       "    <tr style=\"text-align: right;\">\n",
       "      <th></th>\n",
       "      <th>coef</th>\n",
       "      <th>std err</th>\n",
       "      <th>t</th>\n",
       "      <th>P&gt;|t|</th>\n",
       "      <th>[0.025</th>\n",
       "      <th>0.975]</th>\n",
       "    </tr>\n",
       "    <tr>\n",
       "      <th></th>\n",
       "      <th></th>\n",
       "      <th></th>\n",
       "      <th></th>\n",
       "      <th></th>\n",
       "      <th></th>\n",
       "      <th></th>\n",
       "    </tr>\n",
       "  </thead>\n",
       "  <tbody>\n",
       "    <tr>\n",
       "      <th>const</th>\n",
       "      <td>-3.947000e+13</td>\n",
       "      <td>6.150000e+11</td>\n",
       "      <td>-64.163</td>\n",
       "      <td>0.000</td>\n",
       "      <td>-4.070000e+13</td>\n",
       "      <td>-3.830000e+13</td>\n",
       "    </tr>\n",
       "    <tr>\n",
       "      <th>block</th>\n",
       "      <td>-3.178000e+05</td>\n",
       "      <td>3.260000e+04</td>\n",
       "      <td>-9.739</td>\n",
       "      <td>0.000</td>\n",
       "      <td>-3.820000e+05</td>\n",
       "      <td>-2.540000e+05</td>\n",
       "    </tr>\n",
       "    <tr>\n",
       "      <th>residential_units</th>\n",
       "      <td>7.894000e+13</td>\n",
       "      <td>1.230000e+12</td>\n",
       "      <td>64.163</td>\n",
       "      <td>0.000</td>\n",
       "      <td>7.650000e+13</td>\n",
       "      <td>8.140000e+13</td>\n",
       "    </tr>\n",
       "    <tr>\n",
       "      <th>commercial_units</th>\n",
       "      <td>1.047000e+13</td>\n",
       "      <td>1.630000e+11</td>\n",
       "      <td>64.163</td>\n",
       "      <td>0.000</td>\n",
       "      <td>1.020000e+13</td>\n",
       "      <td>1.080000e+13</td>\n",
       "    </tr>\n",
       "    <tr>\n",
       "      <th>total_units</th>\n",
       "      <td>-9.033000e+13</td>\n",
       "      <td>1.410000e+12</td>\n",
       "      <td>-64.163</td>\n",
       "      <td>0.000</td>\n",
       "      <td>-9.310000e+13</td>\n",
       "      <td>-8.760000e+13</td>\n",
       "    </tr>\n",
       "    <tr>\n",
       "      <th>land_square_feet</th>\n",
       "      <td>-5.076000e+10</td>\n",
       "      <td>9.890000e+08</td>\n",
       "      <td>-51.330</td>\n",
       "      <td>0.000</td>\n",
       "      <td>-5.270000e+10</td>\n",
       "      <td>-4.880000e+10</td>\n",
       "    </tr>\n",
       "    <tr>\n",
       "      <th>gross_square_feet</th>\n",
       "      <td>1.528000e+11</td>\n",
       "      <td>2.070000e+09</td>\n",
       "      <td>73.857</td>\n",
       "      <td>0.000</td>\n",
       "      <td>1.490000e+11</td>\n",
       "      <td>1.570000e+11</td>\n",
       "    </tr>\n",
       "    <tr>\n",
       "      <th>borough</th>\n",
       "      <td>-2.542000e+05</td>\n",
       "      <td>1.900000e+04</td>\n",
       "      <td>-13.390</td>\n",
       "      <td>0.000</td>\n",
       "      <td>-2.910000e+05</td>\n",
       "      <td>-2.170000e+05</td>\n",
       "    </tr>\n",
       "    <tr>\n",
       "      <th>neighborhood</th>\n",
       "      <td>3.084036e+03</td>\n",
       "      <td>1.409060e+03</td>\n",
       "      <td>2.189</td>\n",
       "      <td>0.029</td>\n",
       "      <td>3.223160e+02</td>\n",
       "      <td>5.845756e+03</td>\n",
       "    </tr>\n",
       "    <tr>\n",
       "      <th>building_class_category</th>\n",
       "      <td>8.651000e+04</td>\n",
       "      <td>9.948502e+03</td>\n",
       "      <td>8.696</td>\n",
       "      <td>0.000</td>\n",
       "      <td>6.700000e+04</td>\n",
       "      <td>1.060000e+05</td>\n",
       "    </tr>\n",
       "    <tr>\n",
       "      <th>tax_class_at_present</th>\n",
       "      <td>-3.768000e+05</td>\n",
       "      <td>3.120000e+04</td>\n",
       "      <td>-12.084</td>\n",
       "      <td>0.000</td>\n",
       "      <td>-4.380000e+05</td>\n",
       "      <td>-3.160000e+05</td>\n",
       "    </tr>\n",
       "    <tr>\n",
       "      <th>tax_class_at_time_of_sale</th>\n",
       "      <td>2.234000e+06</td>\n",
       "      <td>1.910000e+05</td>\n",
       "      <td>11.698</td>\n",
       "      <td>0.000</td>\n",
       "      <td>1.860000e+06</td>\n",
       "      <td>2.610000e+06</td>\n",
       "    </tr>\n",
       "  </tbody>\n",
       "</table>\n",
       "</div>"
      ],
      "text/plain": [
       "                                   coef       std err       t  P>|t|  \\\n",
       "                                                                       \n",
       "const                     -3.947000e+13  6.150000e+11 -64.163  0.000   \n",
       "block                     -3.178000e+05  3.260000e+04  -9.739  0.000   \n",
       "residential_units          7.894000e+13  1.230000e+12  64.163  0.000   \n",
       "commercial_units           1.047000e+13  1.630000e+11  64.163  0.000   \n",
       "total_units               -9.033000e+13  1.410000e+12 -64.163  0.000   \n",
       "land_square_feet          -5.076000e+10  9.890000e+08 -51.330  0.000   \n",
       "gross_square_feet          1.528000e+11  2.070000e+09  73.857  0.000   \n",
       "borough                   -2.542000e+05  1.900000e+04 -13.390  0.000   \n",
       "neighborhood               3.084036e+03  1.409060e+03   2.189  0.029   \n",
       "building_class_category    8.651000e+04  9.948502e+03   8.696  0.000   \n",
       "tax_class_at_present      -3.768000e+05  3.120000e+04 -12.084  0.000   \n",
       "tax_class_at_time_of_sale  2.234000e+06  1.910000e+05  11.698  0.000   \n",
       "\n",
       "                                 [0.025        0.975]  \n",
       "                                                       \n",
       "const                     -4.070000e+13 -3.830000e+13  \n",
       "block                     -3.820000e+05 -2.540000e+05  \n",
       "residential_units          7.650000e+13  8.140000e+13  \n",
       "commercial_units           1.020000e+13  1.080000e+13  \n",
       "total_units               -9.310000e+13 -8.760000e+13  \n",
       "land_square_feet          -5.270000e+10 -4.880000e+10  \n",
       "gross_square_feet          1.490000e+11  1.570000e+11  \n",
       "borough                   -2.910000e+05 -2.170000e+05  \n",
       "neighborhood               3.223160e+02  5.845756e+03  \n",
       "building_class_category    6.700000e+04  1.060000e+05  \n",
       "tax_class_at_present      -4.380000e+05 -3.160000e+05  \n",
       "tax_class_at_time_of_sale  1.860000e+06  2.610000e+06  "
      ]
     },
     "execution_count": 75,
     "metadata": {},
     "output_type": "execute_result"
    }
   ],
   "source": [
    "results = results.apply(pd.to_numeric)\n",
    "cond = (results['P>|t|'] < 0.05)\n",
    "results[cond]"
   ]
  },
  {
   "cell_type": "markdown",
   "metadata": {
    "id": "LS4pJ4NC_nnA"
   },
   "source": [
    "---\n",
    "\n",
    "<h2><font color = '#A51616'>Summarize your answers to Q4 below, based on your analysis</font></h2>\n",
    "\n",
    "----"
   ]
  },
  {
   "cell_type": "markdown",
   "metadata": {},
   "source": [
    "Based on the OLS regression results, it appears that there are several features that are significantly related to the sale price of the properties. Out of the 15 predictor variables, 12 are statistically significant at a significance level of 0.05. \n",
    "\n",
    "* These significant variables are: 'const', 'block', 'residential_units', 'commercial_units', 'total_units', 'land_square_feet', 'gross_square_feet', 'borough', 'neighborhood', 'building_class_category', 'tax_class_at_present', and 'tax_class_at_time_of_sale'.\n",
    "* The coefficients for 'residential_units', 'commercial_units', and 'total_units' are positive, which suggests that an increase in the number of units is associated with an increase in the sale price.\n",
    "* The coefficient for 'land_square_feet' is negative, which suggests that an increase in the land area is associated with a decrease in the sale price."
   ]
  },
  {
   "cell_type": "code",
   "execution_count": null,
   "metadata": {},
   "outputs": [],
   "source": []
  }
 ],
 "metadata": {
  "colab": {
   "provenance": [],
   "toc_visible": true
  },
  "gpuClass": "standard",
  "kernelspec": {
   "display_name": "Python 3 (ipykernel)",
   "language": "python",
   "name": "python3"
  },
  "language_info": {
   "codemirror_mode": {
    "name": "ipython",
    "version": 3
   },
   "file_extension": ".py",
   "mimetype": "text/x-python",
   "name": "python",
   "nbconvert_exporter": "python",
   "pygments_lexer": "ipython3",
   "version": "3.9.13"
  },
  "widgets": {
   "application/vnd.jupyter.widget-state+json": {
    "state": {},
    "version_major": 2,
    "version_minor": 0
   }
  }
 },
 "nbformat": 4,
 "nbformat_minor": 4
}
